{
 "cells": [
  {
   "cell_type": "code",
   "execution_count": 35,
   "metadata": {},
   "outputs": [],
   "source": [
    "from langchain.document_loaders import UnstructuredFileLoader\n",
    "from langchain.document_loaders import DirectoryLoader\n",
    "from langchain.text_splitter import MarkdownHeaderTextSplitter\n",
    "from sympy import pretty_print\n",
    "from langchain.text_splitter import RecursiveCharacterTextSplitter\n",
    "from langchain_experimental.text_splitter import SemanticChunker\n",
    "import os"
   ]
  },
  {
   "cell_type": "markdown",
   "metadata": {},
   "source": [
    "### load files"
   ]
  },
  {
   "cell_type": "code",
   "execution_count": 36,
   "metadata": {},
   "outputs": [],
   "source": [
    "loader = DirectoryLoader(\"./files_used\")\n",
    "docs = loader.load()\n"
   ]
  },
  {
   "cell_type": "markdown",
   "metadata": {},
   "source": [
    "### Embedding"
   ]
  },
  {
   "cell_type": "code",
   "execution_count": 37,
   "metadata": {},
   "outputs": [],
   "source": [
    "# Embeddings and vector store\n",
    "import shutil\n",
    "from langchain.vectorstores import Chroma\n",
    "\n",
    "\n",
    "# from langchain_community.embeddings.sentence_transformer import (\n",
    "#     SentenceTransformerEmbeddings,\n",
    "# )\n",
    "\n",
    "# persist_directory = './db/chromas-e5-mistral'\n",
    "# persist_directory = './db/chromas-camembert'\n",
    "persist_directory = './db/chromas-e5-large-semantic'"
   ]
  },
  {
   "cell_type": "code",
   "execution_count": 38,
   "metadata": {},
   "outputs": [
    {
     "name": "stdout",
     "output_type": "stream",
     "text": [
      "Model already exists\n"
     ]
    }
   ],
   "source": [
    "import os \n",
    "\n",
    "if os.path.exists(\"model_files/e5-large/multilingual-e5-large\"):\n",
    "    print(\"Model already exists\")\n",
    "else:\n",
    "    print(\"Downloading model\")"
   ]
  },
  {
   "cell_type": "code",
   "execution_count": 39,
   "metadata": {},
   "outputs": [],
   "source": [
    "from langchain_community.embeddings import HuggingFaceEmbeddings\n",
    "\n",
    "# Define the path to the pre-trained model you want to use\n",
    "# modelPath = \"model_files/dangvantuan/sentence-camembert-large\"\n",
    "# modelPath = \"model_files/Salesforce/SFR-Embedding-Mistral\"\n",
    "# modelPath = \"model_files/mistral-e5/e5-mistral-7b-instruct\"\n",
    "modelPath = \"model_files/e5-large/multilingual-e5-large\"\n",
    "\n",
    "# Create a dictionary with model configuration options, specifying to use the CPU for computations\n",
    "model_kwargs = {'device':'cpu'}\n",
    "\n",
    "# Create a dictionary with encoding options, specifically setting 'normalize_embeddings' to False\n",
    "encode_kwargs = {'normalize_embeddings': False}\n",
    "\n",
    "# Initialize an instance of HuggingFaceEmbeddings with the specified parameters\n",
    "embeddings = HuggingFaceEmbeddings(\n",
    "    model_name=modelPath,     # Provide the pre-trained model's path\n",
    "    model_kwargs=model_kwargs, # Pass the model configuration options\n",
    "    encode_kwargs=encode_kwargs, # Pass the encoding options\n",
    ")"
   ]
  },
  {
   "cell_type": "code",
   "execution_count": 49,
   "metadata": {},
   "outputs": [
    {
     "name": "stderr",
     "output_type": "stream",
     "text": [
      "  WARNING: Failed to remove contents in a temporary directory 'C:\\ProgramData\\anaconda3\\envs\\local-rag\\Lib\\site-packages\\~yarrow'.\n",
      "  You can safely remove it manually.\n",
      "  WARNING: Failed to remove contents in a temporary directory 'C:\\ProgramData\\anaconda3\\envs\\local-rag\\Lib\\site-packages\\~nnx'.\n",
      "  You can safely remove it manually.\n",
      "  WARNING: Failed to remove contents in a temporary directory 'C:\\ProgramData\\anaconda3\\envs\\local-rag\\Lib\\site-packages\\~nnxruntime'.\n",
      "  You can safely remove it manually.\n",
      "ERROR: pip's dependency resolver does not currently take into account all the packages that are installed. This behaviour is the source of the following dependency conflicts.\n",
      "unstructured-inference 0.6.1 requires onnx==1.14.1, but you have onnx 1.16.1 which is incompatible.\n"
     ]
    }
   ],
   "source": [
    "!pip install -qU langchain_experimental langchain ragas chromadb langchain-groq fastembed "
   ]
  },
  {
   "cell_type": "code",
   "execution_count": null,
   "metadata": {},
   "outputs": [],
   "source": [
    "!pip install 'onnx==1.14.1' --force-reinstall"
   ]
  },
  {
   "cell_type": "code",
   "execution_count": 47,
   "metadata": {},
   "outputs": [],
   "source": [
    "def all_splitter(docs):\n",
    "    # Markdown \n",
    "    headers_to_split_on = [\n",
    "        (\"#\", \"Titre 1\"),\n",
    "        (\"##\", \"Sous-titre 1\"),\n",
    "        (\"###\", \"Sous-titre 2\"),\n",
    "    ]\n",
    "    \n",
    "    markdown_splitter = MarkdownHeaderTextSplitter(headers_to_split_on=headers_to_split_on)\n",
    "\n",
    "    # Split based on markdown and add original metadata\n",
    "    md_docs = []\n",
    "    for doc in docs:\n",
    "        md_doc = markdown_splitter.split_text(doc.page_content)\n",
    "        for i in range(len(md_doc)):\n",
    "            md_doc[i].metadata = md_doc[i].metadata | doc.metadata \n",
    "        md_docs.extend(md_doc)\n",
    "    \n",
    "\n",
    "    text_splitter = RecursiveCharacterTextSplitter(\n",
    "        chunk_size=400, chunk_overlap=200, add_start_index=True, separators=['\\n\\n', '\\n', '(?<=\\. )']\n",
    "    )\n",
    "    all_splits = text_splitter.split_documents(md_docs)\n",
    "    return all_splits\n",
    "\n",
    "def markdown_splitter(docs):\n",
    "    # Markdown \n",
    "    headers_to_split_on = [\n",
    "        (\"#\", \"Titre 1\"),\n",
    "        (\"##\", \"Sous-titre 1\"),\n",
    "        (\"###\", \"Sous-titre 2\"),\n",
    "    ]\n",
    "    \n",
    "    markdown_splitter = MarkdownHeaderTextSplitter(headers_to_split_on=headers_to_split_on)\n",
    "\n",
    "    # Split based on markdown and add original metadata\n",
    "    md_docs = []\n",
    "    for doc in docs:\n",
    "        md_doc = markdown_splitter.split_text(doc.page_content)\n",
    "        for i in range(len(md_doc)):\n",
    "            md_doc[i].metadata = md_doc[i].metadata | doc.metadata \n",
    "        md_docs.extend(md_doc)\n",
    "    \n",
    "    return md_docs\n",
    "\n",
    "def semantic_splitter(docs):\n",
    "    # Vérifier si la liste de documents est vide\n",
    "    if not docs:\n",
    "        raise ValueError(\"The input document list is empty.\")\n",
    "    \n",
    "    # Vérifier si les contenus des pages des documents sont vides\n",
    "    for d in docs:\n",
    "        if not d.page_content:\n",
    "            raise ValueError(f\"Document {d} has empty page content.\")\n",
    "\n",
    "    # Split based on semantic similarity\n",
    "    semantic_chunker = SemanticChunker(\n",
    "        embeddings, breakpoint_threshold_type=\"percentile\"\n",
    "    )\n",
    "    \n",
    "    # Extraire le contenu des pages\n",
    "    page_contents = [d.page_content for d in docs]\n",
    "\n",
    "    # S'assurer que le contenu des pages n'est pas vide\n",
    "    if not page_contents:\n",
    "        raise ValueError(\"The extracted page content list is empty.\")\n",
    "    \n",
    "    try:\n",
    "        semantic_chunks = semantic_chunker.create_documents(page_contents)\n",
    "    except Exception as e:\n",
    "        print(f\"An error occurred while creating semantic chunks: {e}\")\n",
    "        raise\n",
    "    return semantic_chunks\n"
   ]
  },
  {
   "cell_type": "code",
   "execution_count": 46,
   "metadata": {},
   "outputs": [
    {
     "name": "stdout",
     "output_type": "stream",
     "text": [
      "{'source': 'files_used\\\\aidant.txt'}\n",
      "# Aidant\n",
      "\n",
      "Gan Assurances s'engage pour soutenir les salariés aidants . Aujourd’hui, on compte 11 millions d’aidants. D’ici 2030, 1 actif sur 4 aura, en plus de son emploi, à s’occuper d’un proche. L'«aidant» est défini par la loi depuis 2015 comme une : « personne qui vient en aide, de manière régulière et fréquente, à titre non professionnel, pour accomplir tout ou partie des actes ou des activités de la vie quotidienne d’une personne en perte d’autonomie, du fait de l’âge, de la maladie ou d’un handicap. » Conscient de ces enjeux depuis plusieurs années, Gan Assurances met en place des mesures destinées à favoriser la conciliation de la vie professionnelle et de la vie familiale de ces salariés aidants. Ces dispositifs résultent de l’accord UES relatif aux salariés en situation de handicap ou accompagnant un membre de leur famille touché par la maladie ou le handicap du 20 novembre 2020. Est également concerné, l’Accord relatif à la Diversité et à l’Egalité des chances au sein du Groupe Groupama du 4 juin 2021. Ces accords ont permis de déployer les mesures suivantes : 1.\n",
      "\n",
      "Pour les salariés parents d'enfant en situation de handicap Les salariés ayant un enfant en situation de handicap ou bénéficiant d’une ALD, à charge de moins de 20 ans, ou adulte de plus de 20 ans nécessitant des soins contraignants et la présence d’une tierce personne, en plus des congés légaux, peuvent bénéficier des mesures suivantes : - 2 jours de congés lors du diagnostic de handicap ; - Aménagement des horaires de travail en fonction des contraintes liées au handicap de l’enfant ; - Droit systématique de bénéficier d’un horaire à temps partiel avec le cas échéant et sous certaines conditions, prise en charge du différentiel de cotisations salariales de retraite ; - 8 jours d’absence rémunérés par an pour permettre de gérer les contraintes liées au handicap (démarches administratives, rendez-vous médicaux, cours de rééducation, accompagnement à des activités périscolaires …) ; - Allocation de 1200€ brut annuels versée mensuellement pour un enfant de moins de 20 ans reconnu en situation de handicap. 2.\n",
      "\n",
      "Pour les salariés dont le conjoint est en situation de handicap (époux, pacsé, concubin) - Aménagement des horaires de travail en fonction des contraintes liées au handicap du conjoint ; - Droit systématique de bénéficier d’un horaire à temps partiel avec le cas échéant et sous certaines conditions, prise en charge du différentiel de cotisations salariales de retraite ; - 3 jours d’absence rémunérés par an pour leur permettre de l’accompagner dans leurs démarches administratives ou examens médicaux sur présentation de justificatifs. 3. Pour les salariés aidant un proche dépendant Il peut s’agir : - D’un enfant à charge reconnu handicapé par la législation sociale ou atteint d’une maladie grave entrainant une perte d’autonomie ; - D’un conjoint ou personne liée par un PACS ou concubin, atteint d’un handicap ou d’une maladie grave entrainant une perte d’autonomie ; - D’un ascendant direct atteint d’un handicap ou d’une maladie grave entraînant une perte d’autonomie ; - D’un collatéral jusqu’au 4ème degré ; - D’un ascendant, un descendant ou un collatéral jusqu’au 4ème degré de son conjoint, concubin ou partenaire lié par un pacte civil de solidarité ; - D’une personne âgée ou handicapée avec laquelle il réside ou avec laquelle il entretient des liens étroits et stables, à qui il vient aide de manière régulière et fréquente, à titre non professionnel, pour accomplir tout ou partie des actes ou des activités de la vie quotidienne.\n",
      "\n",
      "## Les salariés aidants familiaux pourront bénéficier :\n",
      "\n",
      "Les salariés aidants familiaux pourront bénéficier : - D’une journée d’absence rémunérée par an, pour leur permettre de procéder à certaines démarches administratives et/ou examens médicaux lié au handicap ou à la maladie de leur proche ; - De l’étude d’aménagement des horaires et temps de travail afin de permettre un équilibre entre vie professionnelle et vie privée, en fonction des contraintes liées au handicap ou à la maladie de leur proche. De plus, le Groupe Groupama et Gan Assurances améliorent les 3 dispositifs légaux de congé de proches aidants, en prenant en charge sur justificatif, pendant une période globale maximum de deux mois, une indemnisation égale à la moitié du salaire sous déduction des allocations journalières éventuellement perçues par ailleurs.\n",
      "\n",
      "## Don de jours de repos\n",
      "\n",
      "Un salarié peut faire don anonymement de ses jours de repos, sous certaines conditions, au bénéfice d’un salarié (CDD ou CDI) de l’entreprise, ayant la charge d’un enfant atteint d’une maladie, d’un handicap ou victime d’un accident rendant indispensable une présence soutenue et qui en fait la demande. L’Accord relatif à la Diversité et à l’Egalité des chances au sein du Groupe Groupama du 4 juin 2021 élargit l’accès au don de jours aux salariés venant en aide à leur conjoint (entendu au sens large), un ascendant, un descendant, un collatéral, une personne âgée ou handicapée avec laquelle il réside ou avec laquelle il entretient des liens étroits et stables. En interne • La Référente Handicap de Gan Assurances répond à toutes vos questions (Nathalie Boulet) • Le Guide des aidants familiaux Groupama • Le service Social de Gan Assurances : Cynthia Lauer (Campus Paris Centre Picardie, Amiens, Nord-Est) et Véronique Vidaillac (région Ouest, Sud-Est, Sud-Ouest) • Votre service médical En externe • Mise à disposition d’un service d’écoute psychologique, d’accompagnement social avec le dispositif CELA et d’un accompagnement juridique pour les aidants familiaux assuré par Groupama Protection Juridique grâce à un numéro d’appel unique et gratuit 0 805 389 967. • Les professionnels de l’Action Sociale de B2V sont aussi à votre écoute et peuvent vous conseiller et vous aider.\n",
      "\n",
      "Consultez leur site ici • La Maison Département pour les Personnes Handicapées (MDPH) peut également vous apporter des conseils et réponses.\n",
      "\n",
      "{'source': 'files_used\\\\anniv.txt'}\n",
      "# Jours de congés anniversaire :\n",
      "\n",
      "Des jours de congés supplémentaires, appelés \"jours congés anniversaire\", sont attribués en fonction de la durée d’activité au sein de l’entreprise. Ces jours de congés d'ancienneté constituent un avantage additionnel pour reconnaître la loyauté et la longévité des employés au sein de l'entreprise.\n",
      "\n",
      "## Chargés de missions :\n",
      "\n",
      "1 jour après 5 ans de service effectif dans l’entreprise ;\n",
      "\n",
      "2 jours après 10 ans ;\n",
      "\n",
      "3 jours après 20 ans ;\n",
      "\n",
      "4 jours après 30 ans.\n",
      "\n",
      "## Salariés Administratifs et Inspecteurs :\n",
      "\n",
      "année du 10ème anniversaire de l'entrée dans l'entreprise : 5 jours ouvrés ;\n",
      "\n",
      "année du 20ème anniversaire : 10 jours ouvrés ;\n",
      "\n",
      "année du 30ème anniversaire : 15 jours ouvrés.\n",
      "\n",
      "## Pour les Chargés de missions :\n",
      "\n",
      "Après 5 ans de service effectif : 1 jour supplémentaire ; Après 10 ans : 2 jours supplémentaires ; Après 20 ans : 3 jours supplémentaires ; Après 30 ans : 4 jours supplémentaires.\n",
      "\n",
      "## Pour les Salariés Administratifs et Inspecteurs :\n",
      "\n",
      "Lors de la 10e année dans l'entreprise : 5 jours ouvrés ; Lors de la 20e année : 10 jours ouvrés ; Lors de la 30e année : 15 jours ouvrés.\n",
      "\n",
      "{'source': 'files_used\\\\arret-travail.txt'}\n",
      "# Arrêt de travail, accident de travail, qui contacter ?\n",
      "\n",
      "Incapacité temporaire de travail, accident de travail ou de trajet, retrouvez ci-dessous le process à suivre et les personnes à contacter. En cas d’absence imprévue, vous devez prévenir votre manager sous 48h00, sauf cas de force majeure, et lui envoyer une copie de votre arrêt de travail (par sms ou mail) en complément de l’envoi à Mérignac (adresse ci-dessous) Une absence pour maladie ou accident doit être justifiée dans les 3 jours, par l’envoi d’un avis d’arrêt de travail au Centre d’Expertise RH Paie à l’adresse suivante : GROUPAMA Centre d’Expertise RH TSA 40021 33688 MERIGNAC Cedex Vous avez aussi la possibilité d'envoyer l'arrêt maladie via un formulaire sur eContactPaie. Important : s'il s'agit d'un accident de travail ou trajet, il est nécessaire de le signaler en appelant le 01.70.94.26.26 En l'absence de réponse du gestionnaire paie, il est aussi possible de passer par le portail eContactPaie.\n",
      "\n",
      "{'source': 'files_used\\\\artt.txt'}\n",
      "# ARTT/RTT\n",
      "\n",
      "Les ARTT ou RTT (aménagement et réduction du temps de travail) correspondent aux jours dont bénéficie un salarié au-delà du nombre de jours de congés légaux ; ils correspondent à la récupération de temps de travail. La réduction du temps de travail par l'attribution de jours ARTT vous permet de vous absenter 1 à 2 jours par mois, en privilégiant, dans la mesure où cela est compatible avec l'organisation du service, les week-end de 3 jours. Le nombre de jours RTT est proratisé en fonction du taux d’activité dechacun. De plus, un certain nombre de jours d’absences autorisées peut minorer le nombre de jours ARTT.\n",
      "\n",
      "## Calcul des ARTT\n",
      "\n",
      "Les droit à jours ARTT sur une année se calculent de la manière suivante sur la base d’un salarié à plein temps et hors dispositions conventionnelles particulières : - Administratif non cadre : 21 jours RTT - Administratif cadre : 19 jours RTT - Inspecteur : 19 jours RTT - Chargé de mission : 10 jours RTT Il est accordé des jours de repos supplémentaires si l’année comporte moins de 9 jours fériés durant les jours ouvrés (du lundi au vendredi). Au même titre que l’application de la journée de solidarité, l’entreprise peut décider de procéder à des journées de fermeture collectives durant l’année qui décompteront des jours RTT pour chaque salarié. Suivi du temps de travail eTemptation, l'outil de gestion et suivi du temps de travail, vous permet de badger, faire une demande d'absence, consulter votre solde de congés ou de RTT ou encore pour les salariés au forfait jours, de faire leur déclaration de présence mensuelle.\n",
      "\n",
      "## Prise des ARTT\n",
      "\n",
      "La prise des jours ARTT s’effectue dans l’année civile de leur acquisition. Le solde des droits à jours ARTT figure en bas du bulletin de paie, il peut être également consulté à tout moment sur l’outil e-Temptation.\n",
      "\n",
      "## Règles de prise des ARTT\n",
      "\n",
      "Les jours ARTT permettent aux salariés de s’absenter, avec l’accord préalable de la hiérarchie, 1 à 2 jours par mois, par demi-journée ou par journée, en privilégiant, dans la mesure où cela est compatible avec l’organisation de l’entité concernée, les week-end de 3 jours. Sous réserve que l’organisation le permette, il est possible de prévoir des week end de 4 jours en posant un RTT le vendredi et le lundi. Un jour ARTT peut également précéder et/ou suivre une période de congés payés (vendredi et/ou lundi). Il peut être pris 2 jours ARTT au maximum dans une semaine, cela ne doit cependant pas conduire à constituer une semaine d’absence en les complétant par des congés payés (par exemple, on ne peut pas prendre une semaine composée d’ARTT et de congés payés). La prise régulière de jours ARTT doit être compatible avec l’organisation du service. Ainsi les équipes, après autorisation du manager, s’organisent afin que chacun soit en mesure de prendre au moins 1 à 2 jour ARTT par mois. La programmation des prises de jours ARTT est établie au début de chaque semestre dans le cadre d’une planification annuelle indicative intégrant l’ensemble des autres absences prévisibles. Le calendrier de prise des jours ARTT peut être modifié par l’encadrement, sous réserve d’un délai de prévenance de 10 jours calendaires sauf circonstances exceptionnelles, avant la date à laquelle cette modification doit intervenir.\n",
      "\n",
      "Cette modification peut notamment résulter du nombre d’absences simultanées dans l’entité. Le calendrier de prise des jours ARTT peut également être modifié par les salariés sous réserve d’un délai de prévenance de 10 jours calendaires avant la date à laquelle cette modification doit intervenir.\n",
      "\n",
      "{'source': 'files_used\\\\cet.txt'}\n",
      "# Compte Epargne Temps (CET)\n",
      "\n",
      "Le compte épargne-temps (CET) est un dispositif d'épargne salariale qui permet aux salariés d’une entreprise de placer sur un compte, leurs périodes de congés ou de repos non-prises ou encore diverses rémunérations. Par ailleurs, les jours CET ne peuvent être utilisés sous la forme de congés qu’après avoirconsommé la totalité des congés payés de l’exercice.\n",
      "\n",
      "{'source': 'files_used\\\\congés-payés.txt'}\n",
      "# Congés payés\n",
      "\n",
      "Le nombre de jours travaillés dépend de votre statut : • Administratif - Non Cadre : 205 jours travaillés • Administratif - Cadre : 205 jours travaillés • Inspecteur : 205 jours travaillés • Chargé de missions : 217 jours travaillés\n",
      "\n",
      "Il est accordé des jours de repos supplémentaires si l’année comporte moins de 9 jours fériés durant les jours ouvrés (du lundi au vendredi). Au même titre que l’application de la journée de solidarité, l’entreprise peut décider de procéder à des journées de fermeture collectives durant l’année qui décompteront des jours RTT pour chaque salarié. Vous pouvez poser ces jours ou consulter votre solde via eTemptation, l'outil de gestion et suivi du temps de travail, vous permet de badger, faire une demande d'absence, consulter votre solde de congés ou de RTT ou encore pour les salariés au forfait jours, de faire leur déclaration de présence mensuelle.\n",
      "\n",
      "## Acquisition des congés payés\n",
      "\n",
      "L'acquisition des congés payés s'effectue du 1er juin de l'année N au 31 mai de l'année N+1. La prise des congés payés s'effectue du 1er juin de l'année N+1 jusqu'au 31 mai de l'année N+2, dans la limite des droits acquis au moment du départ en congé et après l'accord de la hiérarchie. Les congés payés sont décomptés en jours ouvrés sur les bases suivantes (salariés ayant au moins un an de présence) : - salariés non cadres : 26 jours de congés - salariés cadres : 28 jours de congés Le solde des droits à congés payés figure en bas du bulletin de paie, il peut être également consulté à tout moment sur l’outil e-Temptation.\n",
      "\n",
      "## Modalités de prise des congés payés:\n",
      "\n",
      "La durée des congés payés pouvant être pris en une seule fois ne peut excéder 20 jours ouvrés. Le congé principal (congés d’été) doit être pris du 1er mai au 31 octobre pour une durée minimum de 10 jours ouvrés consécutifs et ne dépassant pas 20 jours ouvrés. Il est cependant recommandé que les congés d’été soient pris, dans la mesure du possible, entre le 1er juin et le 30 septembre. Les autres jours peuvent être pris en dehors de la période de mai à octobre, de préférence par semaine entière afin de permettre une meilleure organisation de l’activité. En tout état de cause les congés payés doivent pouvoir être pris avant le 31 mai.\n",
      "\n",
      "{'source': 'files_used\\\\coopt.txt'}\n",
      "# Cooptation\n",
      "\n",
      "Parce qu’il n’y a pas de meilleur ambassadeur que vous pour promouvoir notre entreprise et ses métiers, faisons équipe pour recruter nos talents de demain. Adoptez le réflexe cooptation ! La cooptation, c’est quoi ? La cooptation est le fait de recommander votre entreprise à certaines de vos connaissances dont le profil vous parait pertinent pour l’un des postes ouverts. La cooptation est donc un système de recrutement collaboratif. Le programme de cooptation a pour objectif de vous encourager à parrainer des personnes de votre entourage, susceptibles de nous rejoindre. Ambassadeur de nos valeurs, vous vous portez garant non seulement des compétences de la personne cooptée, mais aussi de l’adéquation de ses qualités humaines avec la culture de l’entreprise. En tant que « cooptant », vous pouvez ainsi recommander des candidats potentiels que vous connaissez et faisant partie de votre réseau (amis, anciens collègues, anciens élèves de la même école, etc). Si le candidat est retenu pour le poste, l’entreprise vous versera, en contrepartie, une prime. NOUVEAU : Chez Gan Assurances, le principe de cooptation est désormais ouvert à tous les postes en CDI* Le système de cooptation qui existait chez Gan Assurances depuis 2017, concernait uniquement certains postes pénuriques ou répondant à nos besoins de transformation.\n",
      "\n",
      "Désormais, pour capitaliser sur toute la force vive de ses collaborateurs et disposer de ressources humaines compétentes nécessaires pour accompagner et assurer le déploiement de la Stratégie 2024 de l’entreprise, l’ensemble des postes Gan Assurances en CDI ouverts* pourront être pourvus grâce au parrainage d’une de vos connaissances. *sauf ceux ouverts exclusivement en interne Véritable source de recrutement. La cooptation permet de : - Recruter plus rapidement sur nos métiers sous tension en diversifiant nos sources de contacts - Bénéficier de candidatures qualifiées en faisant confiance au jugement de nos collaborateurs et en s’appuyant sur leur réseau de proximité - Réallouer le coût de recrutement en rémunérant nos « parrains collaborateurs » plutôt que des cabinets de chasse - Limiter le désistement des candidats car ce sont les collaborateurs les mieux placés pour parler de leur entreprise et véhiculer nos valeurs fondatrices - Proposer aux collaborateurs d’être acteurs du rayonnement externe de l’entreprise en témoignant de leur engagement et en devenant de véritables ambassadeurs de la marque employeur. La démarche de cooptation est un accélérateur de performance collective où chaque partie prenante est gagnante : vous, l’entreprise et les candidats !\n",
      "\n",
      "{'source': 'files_used\\\\dev-competences.txt'}\n",
      "# Developpement des compétences\n",
      "\n",
      "Gan Assurances accompagne la montée en compétences de ses collaborateurs dans leur métier au service de nos axes stratégiques tout en leur permettant d’être acteurs de leur évolution professionnelle. Nos 4 objectifs prioritaires pour 2023 : 1 - Répondre aux enjeux stratégiques en développant les compétences techniques dans leur métier pour viser l’excellence technique et en renforçant la posture business au service des clients, 2 - Renforcer les compétences et les pratiques managériales tout en créant une communauté de managers qui s’entraident, proposer une offre de coaching interne et de co développement interne et enfin, internaliser la formation pour les nouveaux managers, 3 - Répondre aux obligations légales dans un contexte de plus en plus exigeant, 4 - Continuer à intégrer nos nouveaux entrants avec notre séminaire La Fabrique en présentiel et distanciel afin de bien comprendre l’entreprise, la stratégie, les métiers, les offres et les leviers stratégiques d’une compagnie d’assurance au travers d’un business game.\n",
      "\n",
      "{'source': 'files_used\\\\eae.txt'}\n",
      "# Entretien annuel d'évaluation (eae)\n",
      "\n",
      "L’entretien annuel d'évaluation (eae) est un moment de dialogue privilégié qui vous permet d’évoquer la façon dont vous abordez votre métier et votre évolution professionnelle. Lors de cet entretien, avec votre manager, vous faites le bilan de l’année écoulée, définissez les objectifs pour l’année à venir, identifiez vos besoins de formation, et échangez sur les évolutions professionnelles envisagées (nouvelles missions, mobilité, reconversion…). a préparation Prenez le temps de faire une autoévaluation de l’année écoulée Livrez-vous à un premier bilan en mesurant vos réalisations. Identifiez vos forces, vos réussites ainsi que les axes de progrès. Définissez clairement vos objectifs Accordez-vous du temps pour bâtir vos objectifs, travaillez votre argumentation à l’avance afin d’exprimer de manière claire et concise vos aspirations lors de l’entretien. Adoptez une attitude constructive Pour aborder votre entretien avec sérénité, et en faire un moment d’échange constructif, préparez-le en amont. Cette préparation vous permettra de rester mesuré et factuel, d’accepter les différences de point de vue, d’échanger sans pour autant perdre de vue vos objectifs. L’entretien professionnel est un dispositif d'échange entre la DRH et le salarié pour étudier ses perspectives d'évolutions professionnelles. Chaque salarié doit bénéficier tous les 3 ans d'un entretien portant sur les perspectives d'évolution professionnelle.\n",
      "\n",
      "Distinct de l'entretien annuel d'évaluation, l'entretien professionnel a pour objectif d'établir un bilan de votre parcours professionnel dans l'entreprise et de vous aider à construire votre projet professionnel en cohérence avec les évolutions du secteur de l'assurance, les besoins de l'entreprise et sa stratégie de développement. A l'issue de l'entretien, seront définies les actions concrètes à mettre en oeuvre pour le réaliser. Ces entretiens sont conduits par la DRH, et formalisés dans l'outil PRO'fil. Ils concernent tous les salariés de l'entreprise. L'entretien professionnel est systématiquement proposé à l'issue d'un congé de longue durée : congé maternité, congé parental d'éducation, congé de soutien familial, congé d'adoption, arrêt longue maladie…\n",
      "\n",
      "{'source': 'files_used\\\\egalite-pro.txt'}\n",
      "# Egalité professionnelle\n",
      "\n",
      "En mars dernier, le nouvel accord relatif à l’égalité Femmes / Hommes au sein des établissements de l’UES a été signé à l’unanimité entre la Compagnie et les différentes instances syndicales (CFDT, CFE-CGC et la CGT). Il vient ainsi assurer une continuité des dispositifs déjà mis en place tout en permettant de déployer de nouvelles actions. Renforcer l’égalité professionnelle à travers la mixité dans les emplois, l’égalité salariale, la sensibilisation des salariés contre le harcèlement et le sexisme ordinaire ou encore en accompagnant la parentalité : ce nouvel accord sur l’égalité Femmes / Hommes marque la volonté des parties signataires de renouveler leur engagement. Ce nouvel accord permet donc de poursuivre la démarche entreprise par l’UES et ses établissements de développement de mesures concrètes, dans les domaines : • Du recrutement • De l’évolution professionnelle • De la rémunération • De la formation professionnelle • De l’articulation entre vie professionnelle et vie personnelle\n",
      "\n",
      "Indicateur fiable de mesure de l’efficacité de la politique menée, l’Index de l’égalité professionnelle Femmes / Hommes, en augmentation depuis 2019. Ainsi, l’index pour l’année 2023 des établissements de notre UES est de 87/100. En progression par rapport à l’année dernière avec, à nouveau, l’atteinte du nombre de points maximum pour 3 des 5 indicateurs de cet index. Il témoigne de l’engagement de longue date mis en oeuvre en faveur de l’égalité professionnelle entre les femmes et les hommes.\n",
      "\n",
      "{'source': 'files_used\\\\enfants.txt'}\n",
      "# Congés enfants\n",
      "\n",
      "## Congé naissance :\n",
      "\n",
      "Les salariés bénéficient, sans condition d'ancienneté, de 3 jours d'absence autorisés pour chaque naissance survenue dans son foyer pour le père, ou pour l'arrivée d'un enfant placé en vue de son adoption pour le père ou la mère (si ceux-ci renoncent à leur congé d'adoption). Congé maternité Les salariées répondant aux modalités d’attribution prévues par les CCN (Convention collective de travail) disposent de : 22 semaines de congés rémunérés pour la naissance du 1er et du 2ème enfant, 28 semaines de congés rémunérés à partir de la naissance du 3ème enfant, 34 semaines de congés rémunérés pour la naissance de jumeaux, 46 semaines de congés rémunérés pour la naissance de triplés ou plus.\n",
      "\n",
      "Remarques : Les salariées ne répondant pas à la condition de présence dans l'entreprise fixée par les conventions collectives (du 27 juillet 1992, du 27 mai 1992, du 13 novembre 1967) bénéficient des dispositions légales en vigueur : 16 semaines de congés légaux indemnisées par la Sécurité Sociale et sans complément de salaire du GAN pour la naissance du 1er ou du 2ème enfant, 26 semaines de congés légaux indemnisées par la Sécurité Sociale et sans complément de salaire du GAN à partir de la naissance du 3ème enfant, 34 semaines de congés légaux indemnisées par la Sécurité Sociale et sans complément de salaire du GAN à partir de la naissance de jumeaux, 46 semaines de congés légaux indemnisées par la Sécurité Sociale et sans complément de salaire du GAN à partir de la naissance de triplés ou plus.\n",
      "\n",
      "## Congé paternité :\n",
      "\n",
      "Depuis le 1er juillet 2021, la durée du congé de paternité est passée de 14 à 28 jours (Congé paternité de 25 jours et Congé de naissance de 3 jours), dont 7 obligatoires. Selon le gouvernement, il s’agit d’une « nouvelle conquête sociale et d’une avancée pour l’égalité entre les femmes et les hommes ». Désormais, le congé de paternité comporte deux périodes distinctes : Une première période obligatoire de 7 jours : 4 jours calendaires consécutifs pris immédiatement après le congé de naissance de 3 jours ; Une seconde période de 21 jours calendaires (portée à 28 jours en cas de naissances multiples). Ces jours peuvent être pris au plus tard dans les 6 mois à compter de la naissance et de façon fractionnée avec une durée minimale de 5 jours. Pour toutes informations complémentaires (formalités de demande, modalités d’indemnisation, etc.) nous vous invitons à consulter e-contact paie ou de contacter directement votre consultant RH.\n",
      "\n",
      "## Congé d'adoption :\n",
      "\n",
      "Les salariés qui adoptent un enfant peuvent bénéficier d’un congé d’adoption : 14 semaines de congés rémunérés en cas d'adoption d'un enfant 18 semaines de congés rémunérés en cas d'adoption d'un enfant et lorsque le salarié a au moins 3 enfants à charge 22 semaines de congés rémunérés en cas d'adoptions multiples\n",
      "\n",
      "Retrouvez les dispositions d’attribution à l’article 75 de la CCN du 27 mai 1992 Le congé d’adoption pour les Chargés de missions et les Inspecteurs (selon dispositions d’attribution CCN) : 10 semaines de congés rémunérés en cas d'adoption d'un enfant 18 semaines de congés rémunérés si l’adoption a pour effet de porter à 3 ou plus le nombre d’enfants à charge 22 semaines de congés rémunérés en cas d'adoptions multiples Les salariés ne répondant pas aux conditions d’attribution des différentes CCN bénéficient des dispositions légales en vigueur Consultez toutes les informations concernant le congé d’adoption dans votre CCN : Article 86, CCN du 27 mai 1992 - Administratifs Article 20, CCN du 13 novembre 1967 – Chargés de missions Article 53, CCN du 27 juillet 1992 – Inspecteurs\n",
      "\n",
      "## Congé parental :\n",
      "\n",
      "Suite à la naissance ou à l’adoption d’un enfant de moins de 16 ans, il est possible, sous certaines conditions, de bénéficier d’un congé parental d’éducation permettant d’interrompre ou de réduire l’activité professionnelle. Pour bénéficier de ce type de congé, vous devez justifier d’un an d’ancienneté auminimum dans l’entreprise (ou le Groupe) à la date de la naissance ou de l’arrivée au foyer de l’enfant adopté. Il existe deux modalités : le congé total, durant lequel le contrat de travail est suspendu, la réduction d’activité professionnelle : la durée doit être d’au moins 16 heures par semaine. Vous pouvez choisir la durée du travail qui vous convient ; en revanche, la répartition des horaires et/ou jours doit être fixée en accord avec l’employeur (à défaut d’accord, cette répartition relève du pouvoir de direction de l’employeur).\n",
      "\n",
      "Le congé parental ou la réduction d’activité professionnelle dans ce cadre est de droit, quel que soit l’effectif de l’entreprise. L’employeur ne peut donc pas le refuser.\n",
      "\n",
      "Le congé parental d’éducation ou de réduction d’activité professionnelle peut débuter à tout moment jusqu’au troisième anniversaire de l’enfant. Quelle que soit la modalité choisie (congé total ou temps réduit), celle-ci a une durée initiale d’un an au maximum. Le congé peut être prolongé deux fois, sans toutefois excéder la date du troisième anniversaire de l’enfant. En cas d’adoption, le congé ou l’activité ne peut dépasser : -une durée de 3 ans, si l’enfant était âgé de moins de 3 ans à son arrivée au foyer, -une durée d’un an, si l’enfant était âgé de plus de 3 ans et n’a pas encore atteint l’âge de 16 ans révolus. A chaque renouvellement, vous pouvez transformer votrecongé parental en activité à temps partiel/forfait jours réduits ou votre activité en temps partiel/forfait jours réduits en congé parental\n",
      "\n",
      "Les salariés ayant un ou plusieurs enfants âgés de moins de 7 ans au 15 août compris de l’année en cours bénéficient d’une journée d’absence rémunérée le jour de la rentrée scolaire uniquement. Il faut : - Avoir un ou plusieurs enfants à charge fiscalement, âgés de moins de 7 ans au 15 août compris de l’année en cours - Avoir 12 mois de présence dans l’entreprise (ou avoir 3 mois de présence effective pour les salariés ayant au moins 12 mois de présence dans une autre entreprise visée au sens de l’article 1 de la CCN du 27 mai 1992, au cours des 5 dernières années précédant leur embauche dans l’entreprise) - Cette journée ne peut être prise pendant les congés payés mais peut y être ajoutée. - Le salarié absent pour maladie au moment de l’événement ne peut prolonger son absence du jour « rentrée scolaire »\n",
      "\n",
      "## Congé pour enfants malades :\n",
      "\n",
      "Les salariés ayant au moins un an d'ancienneté peuvent bénéficier d'une absence autorisée en cas d'enfant malade, à hauteur de : - 5 jours/an pour un enfant de moins de 12 ans - 6 jours/an pour deux enfants de moins de 12 ans - 7 jours/an pour 3 enfants de moins de 12 ans.\n",
      "\n",
      "## Congé pour décès d'un enfant :\n",
      "\n",
      "Vous bénéficiez, en principe, d'un congé de 5 jours ouvrés en cas de décès d'un enfant. ​​​​​​​Cela étant, ce congé  est porté à 7 jours en cas de décès : - d'un enfant âgé de moins de 25 ans ; - d'un enfant quel que soit son âge s'il était lui-même parent ; - ou d'une personne de moins de 25 ans dont vous aviez la charge effective et permanente.\n",
      "\n",
      "En cas de décès d'un enfant ou d'une personne de moins de 25 ans dont vous aviez la charge effective et permanente, vous pouvez également bénéficier d'un congé de deuil de 8 jours. Ce congé supplémentaire peut être pris dans un délai d'un an à compter de la date du décès de l'enfant, de manière fractionnée ou non.\n",
      "\n",
      "### Autres congés pour décès :\n",
      "\n",
      "3 jours ouvrés en cas de décès du conjoint, du partenaire pacsé, du concubin, du père, de la mère, du beau-père, de la belle-mère, d'un frère ou d'une soeur, 1 à 3 jours ouvrés selon le lieu de l'événement en cas de décès d'un beau-frère, d'une belle-soeur, du grand-père, de la grand-mère du salarié ou de son conjoint.\n",
      "\n",
      "Conditions : - Pour les salaries administratifs et inspecteurs avoir 12 mois de présence dans l'entreprise ou avoir 3 mois de présence effective pour les salariés ayant au moins 12 mois de présence chez un autre employeur au cours des 5 dernières années précédant leur embauche dans l'entreprise justifier le décès par un acte d'Etat civil - Pour les Chargés de missions : bénéficier du statut de chargé de missions titulaire justifier le décès par un acte d'Etat. Dans tous les cas, les justificatifs sont à envoyer directement via eContact Paie\n",
      "\n",
      "## Autres congés :\n",
      "\n",
      "Vous pouvez bénéficier de jours d'absences autorisées à caractère exceptionnel, pour les motifs ci-dessous. Permis de conduire ​​​​​​​Il est possible de prendre 1/2 journée de congé en vue de l'examen pour l'obtention du permis de conduire. Déménagement Les salariés titulaires peuvent prendre 1 journée de congé au titre d'un déménagement (une fois par an).\n",
      "\n",
      "{'source': 'files_used\\\\epargnes salariale.txt'}\n",
      "# Epargne Salariale\n",
      "\n",
      "L’épargne salariale est un ensemble de dispositifs d’entreprise, qui vous permet de vous constituer une épargne personnelle pour la réalisation de vos projets de vie (achat d’un logement, préparation de la retraite...) dans des conditions fiscales et sociales avantageuses. L’épargne salariale est constituée d’une combinaison de dispositifs permettant d’alimenter des plans d’épargne salariale en fonction de vos objectifs d’épargne et/ou de retraite.\n",
      "\n",
      "Deux types de plans d’épargne salariale existent : le PEE et le PERCOL.\n",
      "\n",
      "## Plan d’Épargne d’Entreprise (PEE)\n",
      "\n",
      "Le Plan d’Épargne d’Entreprise (PEE) est un dispositif d’épargne collectif qui permet aux salariés de se constituer, avec l’aide de leur employeur, une épargne à moyen terme investie en parts de FCPE 1 dans un cadre social et fiscal favorable. En contrepartie, les sommes versées sur un PEE sont indisponibles pendant 5 ans au minimum, sauf cas de déblocage anticipé prévus par la Loi. La sortie du PEE : Après une période de 5 ansminimum, ou cas légaux de déblocage, l’épargne vous est versée sous forme de capital.\n",
      "\n",
      "## Plan d’Épargne pour la Retraite Collectif d’entreprise (PERCOL)\n",
      "\n",
      "Le Plan d’Épargne pour la Retraite Collectif d’entreprise (PERCOL ) est, tout comme le PEE, un dispositif d’épargne collectif qui permet aux collaborateurs de l’entreprise de se constituer une épargne retraite, dans des conditions fiscales et sociales avantageuses. Les sommes versées sur un PERCOL restent indisponibles jusqu’au départ à la retraite , sauf cas de déblocage anticipé prévus par la Loi. La sortie du PERCOL : Au départ à la retraite, l’épargne vous est versée selon votre choix : soit sous forme d’un capital, soit sous forme de rente. Comment pouvez vous alimenter votre PEE et votre PERCOL ?\n",
      "\n",
      "Vous pouvez verser vos primes d’intéressement et de participation, réaliser des versements volontaires et monétiser vos droits CET. Pour le PEE, la somme des versements volontaires ne peut dépasser, chaque année, le quart de votre rémunération annuelle brute. Pour le PERCOL, les versements volontaires sont déductibles du revenu imposable dans la limite de votre plafond retraite.\n",
      "\n",
      "### Bon à savoir !\n",
      "\n",
      "En plus des avantages sociaux et fiscaux attachés à la participation et/ou à l’intéressement, l’abondement de l’entreprise, les plus values et les revenus réinvestis dans les plans, sont exonérés d’impôt sur le revenu et de charges sociales.\n",
      "\n",
      "Depuis le 1er janvier 2020, le PERCO s’est transformé en PERCOL. Cette évolution permet de faire bénéficier aux collaborateurs de nouveaux avantages tels que : • La possibilité d’effectuer des versements déductibles fiscalement. Par défaut, le versement personnel sera déductible du revenu imposable et fiscalisé à la sortie. Cependant, le collaborateur peut lors de chaque versement renoncer (de façon irrévocable) au bénéfice de la déductibilité fiscale. • La possibilité d’alimenter par des transferts issus d’autres dispositifs d’épargne retraite (PER), ou autres contrats retraite (PERP, Madelin, article 83 d’une précédente entreprise, PERCO…)\n",
      "\n",
      "Profitez d’un double avantage : épargnez pour votre retraite et réduisez vos revenus imposables 2 ! Sachez que vous pouvez débloquer cette épargne pour l'acquisition de votre résidence principale. Prenons un exemple simplifié, si votre taux marginal d’imposition est de 30%, en plaçant 1 000 euros sur votre PERCOL I, c’est 300 euros d’impôt sur le revenu à payer en moins !\n",
      "\n",
      "## Comment faire des versements volontaires ?\n",
      "\n",
      "Rendez-vous sur www.groupama es.fr . Cliquez sur « Espace personnel » puis sur « Effectuer un Versement ». Choisissez « Versement Occasionnel » ou « Versement Périodique » et laissez vous guider : tout est rapide et sécurisé ! Comment bénéficier de la déductibilité sur les versements provenant de votre épargne personnelle ? Par défaut, vos versements volontaires sont déductibles de vos revenus imposables. Vous recevrez un imprimé fiscal unique avec le montant des versements à déduire lors de votre déclaration d’impôt.\n",
      "\n",
      "## Quelle fiscalité à la sortie ?\n",
      "\n",
      "Les versements volontaires qui auront bénéficié de la déductibilité seront fiscalisés à la sortie. Pour tout savoir sur la fiscalité des versements volontaires, rendez vous sur www.groupama-es.fr, rubrique Épargnants / Comprendre l’épargne salariale / le PER Collectif.\n",
      "\n",
      "La participation, l’intéressement, les versements volontaires et le transfert de jours CET sont les premières sources d’alimentation des plans d’épargne.\n",
      "\n",
      "# Qu’est ce que la participation ?\n",
      "\n",
      "La réserve spéciale de participation (RSP) de l’entreprise est un système obligatoire prévu par la Loi qui donne aux salariés un droit sur une part du bénéfice fiscal réalisé par l’entreprise au cours d’une année, à condition qu’il soit suffisant au regard de la formule légale de calcul, ou le cas échéant, de la formule dérogatoire prévue par un accord. Gan Assurances est concerné par l’Accord Groupe de participation du 18 juin 2010. La prime de participation est calculée proportionnellement au salaire du collaborateur. Le montant pris comme référence du salaire ne peut dépasser trois fois le plafond annuel de la Sécurité Sociale (PASS). La prime de participation est limitée à 75% du PASS.\n",
      "\n",
      "L'intéressement et la participation doivent être versés chaque année avant le 1 er juin N+1 pour un exercice clos le 31 décembre N.\n",
      "\n",
      "Bon à savoir : Lorsque les primes d’intéressement ou de participation sont versées dans un délai de 15 jours suivant la date à laquelle vous êtes informé du montant attribué, sur un plan d’épargne salariale (PEE, PERCOL I), elles sont exonérées d’impôt sur le revenu. Cette exonération est également valable pour plus values générées par les sommes placées sur les supports financiers ainsi que les revenus s’ils sont capitalisés. Cependant, si vous choisissez de percevoir votre prime d’intéressement ou de participation immédiatement, vous devrez la déclarer dans votre revenu imposable, au même titre que votre salaire.\n",
      "\n",
      "# Comment utiliser les primes de participation ou d’intéressement ?\n",
      "\n",
      "Le salarié peut choisir : • de percevoir chacune de ses primes ; • de les verser sur un plan d’épargne (PEE /PERCOL) ; Lorsque le salarié ne fait pas de choix • La moitié de la prime de participation est affectée, par défaut dans le PERCOL I en gestion pilotée, l’autre moitié est affectée dans le PEE sur le fonds le plus sécuritaire . • Les primes issues de l'intéressement sont épargnées automatiquement dans son PEE, sur le fonds le plus sécuritaire prévu par l’accord d’intéressement.\n",
      "\n",
      "# Qu’est ce que le transfert de jours CET ?\n",
      "\n",
      "Le salarié peut convertir tout ou partie de son épargne CET monétisable pour la transférer sur son PERCOL. Il peut ainsi bénéficier, dans la limite légale de 10 jours CET par an, d’une exonération d’impôt et de charges de Sécurité sociale sur ces sommes. Au delà des 10 jours légaux, les transferts CET sont considérés comme du salaire et donc imposables. Les jours CET transférés au PERCOL pourront bénéficier de l’abondement.\n",
      "\n",
      "# Qu’est ce que les versements volontaires ?\n",
      "\n",
      "Les versements volontaires représentent l’apport personnel de l’épargnant (hors CET, Intéressement et Participation) qu’il investit sur un plan d’épargne salariale (PEE/PERCOL). Gan Assurances vous aide à vous constituer une épargne en prenant à sa charge, outre les frais, une contribution proportionnelle à chaque versement appelée abondement complémentaire. L’entreprise peut également verser un abondement unilatéral. Seuls les salariés inscrits à l’effectif sont éligibles.\n",
      "\n",
      "# Qu’est ce que l’abondement complémentaire ?\n",
      "\n",
      "L’abondement est une contribution financière facultative de l’employeur, complémentaire à l’effort d’épargne des collaborateurs. Cette contribution peut porter sur tout ou partie des sommes issues des versements volontaires, de l’intéressement, de la participation ou du CET à condition qu’elles soient versées dans un plan d’épargne salariale (PEE, PERCOL…) conformément aux accords en vigueur.\n",
      "\n",
      "# Qu’est ce que l’abondement unilatéral ?\n",
      "\n",
      "Chaque entreprise adhérente à l’accord PERCOL a la possibilité de verser un abondement unilatéral sur le PERCOL I, sans versement préalable des salariés Principes précisés dans l’accord PERCOL : • L’entreprise décide en début d’année si elle souhaite verser un abondement unilatéral d’un montant minimum de 150 € bruts. • L’abondement unilatéral est inclus dans le plafond d’abondement de 800 €. • L’abondement unilatéral est versé automatiquement sur le PERCOL I en gestion pilotée. Le salarié peut ensuite faire un arbitrage vers un autre FCPE s’il le souhaite. • Les conditions d’éligibilité sont les mêmes que pour les autres versements : 3 mois d’ancienneté dans le groupe au moment du versement.\n",
      "\n",
      "# Comment investir mon épargne ?\n",
      "\n",
      "Les versements effectués dans chacun des plans d’épargne (PEE et/ou PERCOL) peuvent être investis dans l’un des 5 FCPE de la gamme G.E.R.P ( Groupama Epargne Responsable Perspective) réservée auxsalariés du Groupe avec des profils de placement différents, du plus « sécuritaire » au plus « dynamique », dont 1 fonds solidaire ou dans 3 FCPE spécifiques : GEP Court Terme, GEP Sélection PME ETI et GEP Actions Internationales.\n",
      "\n",
      "# Quelle va être la durée de mon investissement ?\n",
      "\n",
      "Quelle que soit la durée d’épargne, des versements réguliers peuvent vous permettre de « lisser » les performances de vos placements.\n",
      "\n",
      "# Quelle prise de risque suisje prêt à accepter ?\n",
      "\n",
      "Les performances peuvent varier à la hausse comme à la baisse en fonction des marchés sur lesquels les capitaux sont investis. Les FCPE à dominante actions constituent les supports les plus dynamiques mais aussi les plus risqués. Ils ne doivent être envisagés que pour une durée de détention longue.\n",
      "\n",
      "# Où trouver l’information sur les fonds ?\n",
      "\n",
      "Pour vous informer sur les fonds, rendez vous sur le site Internet de Groupama Épargne Salariale www.groupama es.fr, rubrique « Tous nos fonds » en sélectionnant un fonds.\n",
      "\n",
      "# À quoi est destinée mon épargne ?\n",
      "\n",
      "Peut être déciderez vous d’épargner en vue du financement d’un projet précis ? A moins que vous ne souhaitiez constituer ucomplément de revenu pour votre retraite ? La finalité de votre placement vous aidera à choisir sa durée, son niveau de risque et de performance.\n",
      "\n",
      "# Comment consulter mes comptes d’épargne salariale ?\n",
      "\n",
      "Vos comptes d’épargne salariale (PEE et PERCOL) sont gérés par Groupama Épargne Salariale et peuvent être consultés directement sur le site Internet : www.groupama-es.fr > Espace Personnel Informations demandées à la connexion : Le code d’accès est repris sur tous les relevés qui vous sont adressés par Groupama Épargne Salariale. Si vous n’êtes pas en possession de votre code, vous pouvez en faire la demande auprès d’un téléconseiller au 01.43.60.43.60. Votre numéro de Sécurité sociale sera demandé. Lors de votre première souscription, votre mot de passe vous sera communiqué. Si vous ne l’avez plus, vous pouvez en demander un nouveau sur le site Internet. Ce dernier vous sera adressé par SMS, email ou courrier selon les moyens de communication renseignés dans vos coordonnées.\n",
      "\n",
      "# Comment retirer mon épargne disponible ou utiliser un cas de déblocage ?\n",
      "\n",
      "Vous pouvez récupérer votre épargne disponible : - Par internet (à privilégier) Connectez vous sur l’espace « épargnants » du site www.groupama es.fr en saisissant votre code d’accès et votre mot de passe. - Par courrier Remplissez une demande d’opération en précisant bien vos coordonnées. Vous pouvez la télécharger sur le site www.groupama-es.fr .\n",
      "\n",
      "# Comment modifier mes placements dans mes plans d’épargne salariale ?\n",
      "\n",
      "Vous avez la possibilité de faire des arbitrages, c’est à dire de modifier, à l’intérieur d’un même Plan (PEE ou PERCOL), la répartition des sommes déjà investies sur un ou plusieurs FCPE. L’arbitrage est constitué, le même jour et dans l’ordre : d’un rachat sur le fonds actuel, suivi d’une souscription sur le fonds futur. Cette opération ne donne lieu à aucun mouvement d’espèces et ne déclenche pas de calcul de plus value ni de taxe. La date de déblocage initiale des sommes est conservée.\n",
      "\n",
      "## La gestion libre sur vos PEE et PERCOL\n",
      "\n",
      "Vous choisissez vous même la répartition de votre épargne entre les supports proposés. À tout moment, vous avez la possibilité d’effectuer des arbitrages, gratuitement et de manière illimitée sur internet, pour modifier la répartition de votre épargne.\n",
      "\n",
      "## La gestion pilotée sur votre PERCOL\n",
      "\n",
      "Cette option vous est proposée pour la gestion de votre PERCOL. Ce dispositif est un mécanisme de gestion automatisée permettant de sécuriser progressivement votre épargne, en fonction de votre horizon de placement, c’est à dire le nombre d’années qui vous sépare de votre départ en retraite. La gestion pilotée offre une allocation plus diversifiée en ayant recourt à 6 fonds. Avec cette option, votre épargne investie sur le PERCOL est réorientée : - en fonction de la date annoncée ou présumée de votre départ à la retraite. - entre les fonds mis à votre disposition : • long terme : investissement sur les fonds à dominante actions GERP Dynamique, GEP Sélection PME ETI et GEP actions internationales, • moyen terme : investissement sur les fonds qui mixent actions et obligations, GERP Prudent et GERP Équilibre, • court terme : investissement sur le fonds monétaire GERP Trésorerie.\n",
      "\n",
      "La gestion pilotée prend tout son intérêt si vous avez comme objectif d’utiliser votre épargne pour votre départ à la retraite. En revanche, si votre objectif est l’achat d’une résidence principale, la gestion pilotée ne se justifie pas. Vous pouvez avoir une partie de votre épargne en gestion libre et une partie en gestion pilotée.\n",
      "\n",
      "La gestion pilotée peut être mise en place à tout moment et notamment : - à l’ouverture de votre PERCOL, - quand vous le souhaitez lors d’un prochain versement. Cette option est gratuite et vous pouvez l’interrompre à tout moment. Ce dispositif facultatif est mis en place en cochant la case « gestion pilotée sur PERCOL» sur votre bulletin de versements. Lorsqu’une somme est affectée par défaut en gestion pilotée (fonds issus de la participation, abondement unilatéral, versements sans précisions des fonds destinataires), seule la somme concernée est mise en gestion pilotée. Les autres avoirs restent dans le mode de gestion choisi par le salarié.\n",
      "\n",
      "Retrouvez sur le site groupama-es.fr toute l’actualité et les fondamentaux de l’épargne salariale mais aussi tous les outils nécessaires pour vous aider à choisir vos placements.\n",
      "\n",
      "# Espace personnel\n",
      "\n",
      "Votre espace personnel, accessible depuis groupama-es.fr et votre application mobile vous permettent de réaliser en quelques clics vos opérations tels que : • Consulter le montant de votre épargne du PEE et du PERCOL • Réaliser de versements occasionnels ou programmés • Modifier la répartition de votre épargne en effectuant des arbitrages • Répondre à vos avis d’option d’intéressement et/ou de participation • Créer des alertes sur les valeurs liquidatives des fonds.\n",
      "\n",
      "# Réglementation\n",
      "\n",
      "Évolutions de la réglementation, actualité des marchés financiers, tout ce que vous devez savoir sur votre épargne salariale regroupé dans une lettre d’information, directement dans votre boite mail. Il récapitule vos opérations et précise le montant de votre épargne. Il est mis à votre dispositions sur votre espace personnel à la suite d’opérations. Une fois par an, ce document de synthèse fait apparaître clairement la situation de votre compte ainsi que les dates de mise en disponibilité de votre épargne.\n",
      "\n",
      "# Gestion de votre épargne\n",
      "\n",
      "Votre épargne est gérée par Groupama Asset Management, spécialiste de la gestion des portefeuilles collectifs d’entreprise. Pour GroupamaAsset Management, 8e société française de gestion d’actifs d’épargne salariale, la gestion responsable est une réalité, une pratique quotidienne visant à construire une performance dans une vision à long terme. À ce titre, l’entreprise s’engage depuis 2001, à promouvoir l’Investissement Socialement Responsable, qu’elle développe au coeur de sa gestion d’actifs. La gamme des fonds Groupama Épargne Responsable Perspective, destinée aux salariés du groupe, suit ces principes de gestion, et est labellisée par le Comité Intersyndical de l’Épargne Salariale (CIES), au côté duquel Groupama Asset Management est engagé pour « favoriser les comportements d’entreprises socialement responsables ». Groupama Asset Management est régulièrement récompensée par la presse financière pour la qualité de sa gestion, les performances de ses fonds…\n",
      "\n",
      "# Réclamation\n",
      "\n",
      "Une réclamation est une déclaration actant le mécontentement exprimé par un client envers un professionnel (définition de l’Autorité de Contrôle Prudentiel et de Résolution). Pour toute réclamation (désaccord, mécontentement) relative à votre contrat ou à vos opérations d’épargne salariale, vous pouvez vous adresser à votre interlocuteur habituel ou directement à Groupama Épargne Salariale dont les coordonnées figurent ci dessous Par courrier : Groupama Épargne Salariale Service clients 46 rue Jules Méline 53098 LAVAL Cedex 9 Par téléphone : 01 43 60 43 60 (non surtaxé) puis touche « Réclamation » Par le formulaire de contact : sur notre site Internet www.groupama-es.fr rubrique « Contact »\n",
      "\n",
      "Si vous n’êtes pas satisfait de la réponse ou de la solution apportée, votre réclamation peut être adressée au Service Réclamations de Groupama Épargne Salariale : Par courrier : Groupama Épargne Salariale Service Réclamations 46 rue Jules Méline 53098 LAVAL Cedex 9 Par le formulaire de contact : sur notre site Internet www.groupama es.fr rubrique « Contact ». NOTE IMPORTANTE vous devrez impérativement faire figurer dans votre correspondance la référence de votre dossier indiquée sur la réponse que nous vous avons apportée à votre premier contact Groupama Épargne Salariale s’engage à répondre à votre réclamation dans un délai de 10 jours ouvrés à partir de la date de réception à Groupama Épargne Salariale. Si la complexité de votre demande ne permet pas de respecter ce délai, vous en serez informé par accusé réception. En dernier lieu, et seulement après avoir respecté les étapes précédentes, si un désaccord persiste sur le traitement de la réclamation, vous pouvez recourir au Médiateur de l’Autorité des marchés financiers (AMF), sans préjudice de votre droit de saisir éventuellement la justice, en écrivant par voie postale à : Médiateur de l’AMF 17 place de la Bourse 75082 PARIS Cedex 02 ou par formulaire électronique accessible sur le site Internet de l’AMF, www.amf france.org NOTE IMPORTANTE vous devrez impérativement faire figurer dans votre correspondance la référence de votre dossier indiquée sur la réponse que nous vous avons apportée à votre premier contact.\n",
      "\n",
      "# POUR ENCORE PLUS DE PRÉCISIONS SUR L’ÉPARGNE SALARIALE\n",
      "\n",
      "Vous pouvez contacter : - Votre représentant ressources humaines habituel - Les équipes de Groupama Épargne Salariale - Le serveur vocal interactif : 01.43.60.43.60 - 7j/7 et 24h/24 - Consulter vos avoirs (consultation sécurisée) - Connaître la valeur liquidative de vos FCPE - Appeler un conseiller du lundi au vendredi, de 8h30 à 18h00 Munissez vous de votre Code d’accès et de Votre mot de passe - Une seule adresse pour vos envois : Groupama Épargne Salariale Service Clients 46 rue Jules Méline 53098 Laval Cedex\n",
      "\n",
      "{'source': 'files_used\\\\equipe-formation.txt'}\n",
      "# Equipe formation\n",
      "\n",
      "Nous sommes une entreprise qui accorde une place importante à notre collectif de 5 000 personnes : salariés, Agents Généraux, collaborateurs d’Agences qui sont la richesse de l’entreprise et le premier levier de sa performance. Chacun a un rôle clé dans la réussite de Gan Assurances. Ensemble, construisons le Gan de demain. Parce que nous croyons que les collaborateurs font la différence, chez Gan Assurances nous misons sur le développement des compétences ! Vous avez un projet professionnel ? Vous souhaitez développer vos compétences et vous ne savez pas vers qui vous tourner ? Les 8 collaborateurs de l'équipe Formation Salariés sont à votre service pour vous aider à développer vos compétences. Nous vous accompagnons dans toutes les étapes de votre projet : identification des besoins, recherche des solutions adaptées et leur mise en oeuvre. Nous proposons diverses modalités d'apprentissage et développons des capsules digitales. Ensemble, nous contribuons à la réussite collective de Gan Assurances en participant au maintien, au développement et à l'anticipation des évolutions des métiers.\n",
      "\n",
      "Le plan de développement des compétences vous permet de renforcer vos compétences et d’en acquérir de nouvelles. Toutefois, Gan Assurances propose d'utiliser d’autres dispositifs de formation comme : • le Compte Personnel de Formation (CPF). • le Bilan de Compétences • la Validation des Acquis et de l’Expérience (VAE) • Le CPF de Transition Professionnelle • le Conseil en Evolution Professionnelle (CEP) Ces dispositifs permettent de : - trouver un point d’équilibre entre votre intérêt individuel et l’intérêt collectif de l’entreprise ; - instituer une individualisation des parcours professionnels.\n",
      "\n",
      "Attention ! Le projet de loi \"pour la liberté de choisir son avenir professionnel\" a modifié profondément certains de ces dispositifs (notamment le CPF) et en a apporté de nouveaux. Les supports mis à disposition vous permettent de mieux comprendre ces différents dispositifs.\n",
      "\n",
      "{'source': 'files_used\\\\eTemptation.txt'}\n",
      "# eTemptation\n",
      "\n",
      "eTemptation est la plateforme de gestion du planning. Vous pouvez ainsi gérer vos absendes, prises de congés, consulter vos compteurs... .\n",
      "\n",
      "Demandes d'absences : Les fonctions de demandes d'absences permettent d'effectuer des demandes de motifs (présence ou absence) ou de consignes dans le passé ou dans le futur. Chaque employé peut y réaliser les tâches suivantes :\n",
      "\n",
      "Effectuer une nouvelle demande, Utiliser la liste des demandes d'absences pour consulter ses demandes effectuées, les modifier, les annuler, les imprimer ou ajouter un document justificatif. Accéder à la fonction 'Planning individuel' (WPL) à l'aide du bouton Pl Individuel de la barre d'outils. Le code des fonctions de demandes d'absences commence par WD et se termine par un ou deux caractères alphanumériques (WD1, WDA1, WDH…).\n",
      "\n",
      "Prévisions d'absence : Les fonctions de prévisions d'absence permettent de saisir des intentions d'absence, de prévoir les absences futures. Chaque prévision peut être transformée en demande, qu'elle soit soumise à validation hiérarchique ou non. Chaque employé peut y réaliser les tâches suivantes : Effectuer une nouvelle saisie de prévision, Utiliser la liste des prévisions d'absences pour consulter ses prévisions effectuées, les modifier, les transférer ou les confirmer en demandes, les annuler, les imprimer. Accéder à la fonction 'Planning individuel' (WPL) à l'aide du bouton Pl individuel de la barre d'outils. Le code des fonctions de prévisions d'absences commence par WF et se termine par un ou deux caractères alphanumériques (WF1, WFA1, WFH…).\n",
      "\n",
      "A savoir\n",
      "\n",
      "En haut de l'écran, sont affichés en permanence le matricule et le nom prénom de l'utilisateur de la fonction.\n",
      "\n",
      "Les paramètres permettant de contrôler les demandes sont définis dans la fonction 'Demandes absences' (PDA).\n",
      "\n",
      "{'source': 'files_used\\\\fractionnement.txt'}\n",
      "# Jours de fractionnement :\n",
      "\n",
      "La prise de congés principaux en dehors de la période légale ouvre droit à des jours de congés supplémentaires. Chaque salarié peut voir le nombre de ses congés payés majoré de 1 à 2 jours supplémentaires à raison de : 2 jours ouvrés de congés supplémentaires lorsque le nombre de jours de congés pris entre le 1er novembre et le 31 mai de chaque année est au moins égal à 5 ; 1 jour ouvré de congé supplémentaire lorsque le nombre de jours de congés pris entre le 1er novembre et le 31 mai de chaque année est compris entre 2 et 4.\n",
      "\n",
      "{'source': 'files_used\\\\gan.txt'}\n",
      "# Gan assurances\n",
      "\n",
      "GAN est une société anonyme d'assurances française. Elle fait partie du groupe Groupama depuis 1998.\n",
      "\n",
      "Aujourd'hui, quatre entreprises distribuent la marque Gan : Gan Assurances, Gan Patrimoine, Gan Prévoyance et Groupama Gan Vie.\n",
      "\n",
      "La marque Gan est distribuée par quatre sociétés :\n",
      "\n",
      "Gan Assurances, qui s'appuie sur son réseau d'Agents généraux, le quatrième en France. Au total, c'est un collectif de 5 000 personnes12 qui intervient aussi bien en assurance de biens (automobile, habitation, responsabilité civile, véhicules, locaux, stocks), dans laquelle ils sont spécialisés, qu'en assurance de personnes (prévoyance, santé, retraite et épargne), pour les particuliers et professionnels, en individuelle et collective. Gan Patrimoine (anciennement Gan Capitalisation avant 2010), qui s'appuie sur son réseau de mandataires. Ils interviennent en assurance de personnes pour les particuliers et professionnels, en individuelle. Gan Prévoyance (anciennement Branche de Prévoyance Familiale (BPF) avant 2010), qui s'appuie sur son réseau de chargés en prévoyance (retraite, santé et épargne). Ils interviennent en assurance de personnes pour les particuliers et professionnels, en individuelle et collective. Groupama Gan Vie, qui s'appuie sur ses courtiers partenaires et son inspection commerciale. Ils interviennent en assurance de personnes pour les entreprises et professionnels (assurance collective).\n",
      "\n",
      "{'source': 'files_used\\\\handicap.txt'}\n",
      "# Handicap\n",
      "\n",
      "La mobilisation de Gan Assurances en matière de recrutement et de maintien dans l’emploi des personnes en situation de handicap est scellée depuis plus de dix ans par un accord d’entreprise*, signé à l’unanimité des représentants du personnel. Cet engagement fort et durable permet au salarié en situation de handicap de se projeter dans son parcours professionnel, de mettre en avant ses compétences tout en conciliant ses contraintes personnelles liées à sa situation de santé. Sensibiliser les collaborateurs de Gan Assurances afin que la notion de handicap soit intégrée dans la vie sociale de l’entreprise et permette l’inclusion la plus naturelle est aussi un des objectifs de notre accord. Car faire connaitre notre politique sur le handicap, c’est faire prendre conscience aux salariés qui n’oseraient pas déclarer leur handicap, qu’ils ont tout à gagner en termes d’accompagnement et d’équilibre de vie personnelle et professionnelle.\n",
      "\n",
      "La loi 2005, pour l’égalité des droits et des chances, la participation et la citoyenneté des personnes handicapées, donne une définition précise : « Constitue un handicap toute limitation d’activité ou restriction de participation à la vie en société subie dans son environnement par une personne en raison d’une altération substantielle, durable ou définitive d’une ou plusieurs fonctions physiques, sensorielles, mentales, cognitives ou psychiques, d’un polyhandicap ou d’un trouble de santé invalidant. »\n",
      "\n",
      "L’accompagnement vers la reconnaissance de la qualité de travailleur handicapé (RQTH). Lors de la survenance d’un handicap, d’une situation de santé, d’une maladie, d’un accident ayant des répercussions sur la situation professionnelle, il est nécessaire d’engager une démarche de reconnaissance de la situation de handicap et d’obtenir une RQTH. Se faire reconnaître travailleur handicapé, c’est bénéficier d'aides et de dispositifs spécifiques pour un accompagnement ou un aménagement de la vie au travail (ou, dans le cadre du recrutement, un meilleur accès à l’emploi). Le médecin du travail (de Campus ou des Services de Prévention et de Santé au Travail – SPST- pour les collaborateurs des sites régionaux), les Assistantes Sociales (de Gan Assurances et des SPST) et la Référente Handicap de Gan Assurances vous accompagnent dans cette démarche.\n",
      "\n",
      "Les mesures déployées chez Gan Assurances pour les collaborateurs en situation de handicap - 3 journées d'absence autorisée rémunérée par an prenables par journée ou demi-journée, pour effectuer des démarches administratives et/ou examens médicaux liés à la situation de handicap du salarié (sur justificatif) - L'aménagement de votre poste de travail (en cas de besoin et sur préconisation de la Médecine du Travail) - Un suivi individuel adapté par la Médecine du Travail - L’accès facilité au temps partiel avec maintien par Gan Assurances du supplément de cotisations d’assurance vieillesse et de retraite complémentaire sur la base de la durée d’activité à temps plein\n",
      "\n",
      "L’accord sur la Gestion des Emplois et des Parcours Professionnels (GEPP) du 20 juillet 2021, contient deux dispositions spécifiques pour accompagner la fin de carrière des salariés en situation de handicap : - L’abondement du temps partiel « senior » à hauteur de 1 jour par année d’ancienneté avec la reconnaissance, à Gan Assurances, de la qualité de travailleur handicapé; - La majoration de l’indemnité de départ volontaire à la retraite à raison de 1% par année d’ancienneté au sein de Gan Assurances avec la reconnaissance de la qualité de travailleur handicapé.\n",
      "\n",
      "Gan Assurances conduit différentes actions en matière d’aménagement de poste de travail permettant d’atténuer le retentissement du handicap sur la vie professionnelle du salarié. Il peut être matériel (fauteuil ergonomique avec ou sans têtière, logiciel d’agrandissement, repose pieds, casques adaptés, lampe,..) sur site ou au domicile, organisationnel (télétravail médical, aménagement des horaires de travail ou de l’activité,…). L’aménagement du poste de travail commence toujours par une préconisation du médecin du travail, suivent une étude du poste de travail du salarié (équipements, postures, gestes, déplacements,…) et des essais de matériels spécifiques. Lorsque les essais sont concluants et validés par le médecin du travail, les matériels sont commandés et installés. L’aménagement du poste de travail est mené par la Référente Handicap en liaison avec le médecin du travail, les infirmières du travail et des ergonomes.\n",
      "\n",
      "Le handicap ne concerne pas seulement le collaborateur directement atteint. Il peut aussi avoir un impact sur le quotidien de ses proches aidants. Pour accompagner les collaborateurs touchés, des mesures à destination des aidants sont également déployées chez Gan Assurances\n",
      "\n",
      "La Référente Handicap de Gan Assurances Nathalie Boulet répond à toutes vos questions. Dédiée à 100% au déploiement de la politique handicap de notre entreprise, elle accompagne les collaborateurs en situation de handicap tout au long de l'année. N'hésitez pas à la contacter. Le Service Social de Gan Assurances , avec Cynthia Lauer (Nanterre et Paris Centre Picardie, Nord-Est) et Véronique Vidaillac (Ouest, Sud-Est, Sud-Ouest). Le Service Médical, à Campus Nanterre avec le Dr Berthaud, Véronique Delente et Djamila Lemetais – infirmières du travail. À Mérignac avec Marie-Laure Dupin, infirmière du travail. Les Services de Prévention et de Santé au Travail, disponibles pour les collaborateurs en région.\n",
      "\n",
      "{'source': 'files_used\\\\mariage-pacs.txt'}\n",
      "# mariage et pacs\n",
      "\n",
      "## Jour de congés mariage/pacs du salarié :\n",
      "\n",
      "Les salariés répondant à la condition de présence dans l'entreprise fixée à l'article 75 de la CCN du 27 mai 1992, à l'article 53 de la CCN du 27 juillet 1992 et à l'article 20 de la CCN du 13 novembre 1967 bénéficient, sans réduction de la rémunération de 5 jours de congés pour mariage et pacs. Conditions d'attribution :\n",
      "\n",
      "Pour toutes populations confondues : Justifier le mariage par un acte d'état civil ou justifier le pacs par une fiche d'enregistrement de la déclaration du pacs La prise du congé s'effectue dans les jours entourant le mariage civil ou la conclusion du pacs Et\n",
      "\n",
      "Pour les administratifs et inspecteurs : Avoir 12 mois de présence dans l'entreprise Ou avoir 3 mois de présence effective pour les salariés ayant au moins 12 mois de présence chez un autre employeur au cours des 5 dernières années précédant leur embauche dans l'entreprise Pour les Chargés de missions : Bénéficier du statut de chargé de missions titulaire\n",
      "\n",
      "## Le mariage d'un proche parent\n",
      "\n",
      "Les salariés répondant à la condition de présence dans l'entreprise fixée à l'article 75 de la CCN du 27 mai 1992, à l'article 53 de la CCN du 27 juillet 1992 et à l'article 20 de la CCN du 13 novembre 1967 bénéficient d'un jour rémunéré pour le mariage d'un frère, d'une sœur, d'un ascendant ou descendant direct du salarié ou de son conjoint (ou PACS). Les conditions d'attribution sont les mêmes.\n",
      "\n",
      "{'source': 'files_used\\\\mobilite-durable.txt'}\n",
      "# Forfait Mobilités durables (FMD)\n",
      "\n",
      "Dans le cadre des mesures s’inscrivant dans la stratégie RSE groupe, Gan Assurances vous propose, un Forfait Mobilités Durables (FMD) pour bénéficier d’une prise en charge jusqu’à 350€ par an de vos frais de déplacements domicile-travail durables. Ce nouveau forfait, non imposable, vise à participer à vos déplacements domicile-travail « plus durables ».\n",
      "\n",
      "Pour qui ? Tous les Salariés de GMA en CDI, CDD, alternants ayant plus de 3 mois d’ancienneté* qui souhaitent utiliser 1 ou plusieurs modes de transport éligibles au FMD, a minima 26 jours en 2023.\n",
      "\n",
      "Que peut-on se faire rembourser au titre du FMD ? Et comment ? Par exemple, l’achat ou la location d’un vélo, l’achat d’accessoires de sécurité (ex : antivol, casques, …), les frais d’entretien et de réparation du vélo. Et aussi, les frais de covoiturage Karos en tant que passager, la location en libre-service de trottinette/scooter électrique… Le remboursement se fait mensuellement, après remise de justificatifs ou d’attestation sur l’honneur, via un formulaire sur e-contact paie.\n",
      "\n",
      "Quel est le montant du FMD ? Le FMD, c’est jusqu’à 350€ par année civile et par salarié*. Un cumul est notamment possible avec la prise en charge des frais de transports publics, mais dans la limite globale de 350€.\n",
      "\n",
      "Choisir ou non le FMD ? Vous avez un abonnement aux transports en commun et la prise en charge employeur est égale ou dépasse de 350€/an, alors le FMD n’est pas pour vous. Si la prise en charge employeur est inférieure à 350€ par an, alors vous pouvez étudier les modes de transports éligibles au FMD. Vous n’avez pas d’abonnement aux transports en commun, alors selon vos modes de transport, étudiez les prises en charges possibles au titre du FMD.\n",
      "\n",
      "{'source': 'files_used\\\\mobilite.txt'}\n",
      "# La mobilités interentreprises\n",
      "\n",
      "La mobilité est un levier privilégié pour évoluer et enrichir votre parcours professionnel ! Le Groupe Groupama, avec ses multiples implantations en France et à l’étranger, offre une large variété d’opportunités professionnelles et fait de la mobilité une des priorités de sa politique en ressources humaines. Votre décision est prise ! Vous souhaitez bénéficier d’une mobilité au sein de Gan Assurances ou du Groupe. Plusieurs actions s’offrent à vous : • N’hésitez pas à contacter votre consultant RH qui vous aidera à y voir plus clair et à structurer votre projet. • Consultez le site intranet dédié à la mobilité interentreprises du Groupe : Mouvy\n",
      "\n",
      "{'source': 'files_used\\\\mon-universite.txt'}\n",
      "# Mon Université\n",
      "\n",
      "Mon Université propose de nombreuses fonctionnalités liées à la formation professionnelle. Grâce à cette plateforme, vous pouvez : • Consulter les formations auxquelles vous êtes inscrits, leurs programmes, remplir une évaluation de satisfaction, éditer le certificat de formation,... • Suivre des modules de formation e-learning • et en tant que manager, saisir les besoins de formation de votre équipe suite à vos entretiens annuels\n",
      "\n",
      "{'source': 'files_used\\\\prevoyance.txt'}\n",
      "# PREVOYANCE\n",
      "\n",
      "Obligatoires ou facultatifs, les dispositifs de prévoyance incapacité de travail, invalidité, décès, ont un rôle important dans votre couverture sociale, permettant notamment d'assurer le risque de perte de revenus liés aux risques couverts.\n",
      "\n",
      "LES DISPOSITIFS DE PREVOYANCE OBLIGATOIRES :\n",
      "\n",
      "Le Régime Professionnel de Prévoyance (RPP) vous apporte des garanties complémentaires : • En cas de décès • En cas d'invalidité • En cas d'incapacité de travail En complément, les Inspecteurs bénéficient de la Garantie Individuelle Accident qui apporte une garantie supplémentaire dans le cadre d’un accident professionnel en matière d’invalidité ou de décès. L’adhésion est immédiate et les cotisations sont entièrement prises en charge par Gan Assurances.\n",
      "\n",
      "LES DISPOSITIFS DE PREVOYANCE FACULTATIFS :\n",
      "\n",
      "En tant que collaborateur de Gan Assurances, vous pouvez bénéficier du Régime de Prévoyance Facultatif. Certaines garanties viennent compléter celles accordées par le Régime Professionnel de Prévoyance de branche (RPP). Vous pouvez adhérer à tout moment dans l’année. Le bulletin d'affiliation est à faire parvenir au CERH Paie (Groupama CERH, TSA 40021, 33688 Mérignac cedex)\n",
      "\n",
      "Afin d’adapter vos besoins, vous avez la possibilité de modifier vos garanties : les augmenter, les minorer, les supprimer. Pour cela, complétez et renvoyez le bulletin d’affiliation au CERH-Paie avant le 3 décembre 2021 pour une prise en compte au 1er janvier. La demande de modification de garanties acceptée prend effet immédiatement sous réserve que le changement de situation de famille ait été déclaré dans les deux mois. À défaut, la modification prendra effet au 1er janvier suivant. Dans tous les cas, un relevé de garanties vous est adressé tous les ans fin mars. Les cotisations sont prélevées directement sur votre salaire durant les mois de mars à décembre pour une couverture dès janvier. Compte tenu de l’équilibre financier du régime, les cotisations sont appelées à 65% du taux contractuel. Le montant de la cotisation prélevé en paie au titre de chaque garantie est donc réduit de 35%. Par exemple, la cotisation réellement payée par les salariés pour la garantie rente d’éducation = 0,16% de la rémunération (au lieu de 0,25%). Pour plus d'information vous pouvez contacter : -Le CERH - Paie pour obtenir une simulation du montant des cotisations en fonction des garanties souhaitées (via le portail e-contact paie) ; -Groupama Gan Vie si vous avez des questions spécifiques concernant les garanties (au numéro de téléphone suivant : 09.69.32.36.60).\n",
      "\n",
      "{'source': 'files_used\\\\primes-et-allocation.txt'}\n",
      "# Prime et allocation\n",
      "\n",
      "## Quelles sont les primes et allocations dont vous pouvez bénéficier ?\n",
      "\n",
      "Prime de diplôme : - Diplôme de niveau V ou VI : 3 303,16 € brut - Diplôme de niveau III ou supérieur : 4 954,74 € brut Prime de mariage ou Pacs - 943,76 € brut (Sous réserve d'un an de présence effective ou titulaire)\n",
      "\n",
      "## Prime de naissance :\n",
      "\n",
      "1 887,52 € brut (sous réserve d'un an de présence effective ou titulaire)\n",
      "\n",
      "## Autre primes\n",
      "\n",
      "Pour les salariés d'enfants âgés de moins de 25 ans et poursuivant des études supérieures; - 43 € brut/mois (proratisé si temps partiel sauf si enfant handicapé*)\n",
      "\n",
      "Pour les enfants de moins de 20 ans reconnu handicapé par la législation sociale (accord relatif aux salariés en situation de handicap du 18 janvier 2018) : - 1200 € brut/an.\n",
      "\n",
      "Primes Médailles d'honneur du travail Les médailles d’honneur du travail sont accordées, sur demande et sous conditions, par l’administration compétente en fonction de votre domicile (mairie, préfecture, sous-préfecture ou Direccte), au regard de vos années de carrière chez un ou plusieurs employeurs. Elles comportent quatre échelons : • la médaille d’argent, après 20 ans de services ; • la médaille de vermeil, après 30 ans de services ; • la médaille d’or, après 35 ans de services ; • la grande médaille d’or, après 40 ans de services.\n",
      "\n",
      "Pour plus d’information concernant l’obtention des médailles d’honneur du travail ainsi que sur les démarches à suivre, nous vous invitons à consulter le site officiel de l’administration française.\n",
      "\n",
      "## Quelles démarches réaliser ?\n",
      "\n",
      "Pour bénéficier de la prime versée par l’entreprise, il appartient au salarié d'effectuer les démarches auprès de l'administration pour obtenir le diplôme de médaille d’honneur du travail. Ces démarches peuvent être longues, et il n’y a que deux sessions de remise des médailles par an : le 1er janvier et le 14 juillet. Pensez donc à vous y prendre à l’avance car les dates limites de dépôt des dossiers sont fixées au 15 octobre (pour le 1er janvier) et au 1er mai (pour le 14 juillet) de chaque année. Voici la liste des pièces à fournir pour la constitution du dossier de demande de médaille d’honneur du travail auprès de l’administration : • formulaire cerfa n°11796*01 rempli, daté et signé ; • photocopie d'une pièce d’identité, • photocopies des certificats de travail de chaque employeur, • attestation récente du dernier employeur (à demander au CERH Paie), • attestation des services accomplis au titre du service national ou photocopie du livret militaire, • pour les mutilés du travail, photocopie du relevé des rentes. Montant de la Prime et conditions de versement Lors de l’obtention d’une médaille du travail, et uniquement sur présentation au CERH Paie du diplôme remis à cette occasion, une prime d’un mois de salaire plus 1/12e de mois de salaire, vous sera versée et proratisée en fonction de votre ancienneté dans le Groupe.\n",
      "\n",
      "La prime versée sera exonérée de cotisations et contributions sociales (et d’impôt sur le revenu) à hauteur d’un mois de salaire. Au-delà, le montant de la prime sera soumis à cotisations et contributions sociales (et à impôt sur le revenu). Afin de respecter l’esprit de la prime liée à l’obtention de la médaille d’honneur du travail et d’en permettre l’exonération de cotisations et contributions sociales, plusieurs conditions sont fixées pour son versement : • le salarié doit être inscrit à l'effectif au moment où il atteint la date anniversaire de la médaille d’honneur du travail, • le salarié doit demander sa médaille d’honneur du travail dans les 12 mois qui suivent l’atteinte de son droit (20, 30, 35 et 40 ans), • le salarié doit demander sa prime au CERH Paie dans les 12 mois qui suivent l’obtention de sa médaille d’honneur du travail, • conformément à ce que prévoit le barème d’obtention des médailles (20, 30, 35, 40 ans de carrière), un salarié ne pourra pas percevoir plus d’une prime tous les 5 ans. Les gratifications par ancienneté En complément du versement des primes de médaille du travail, l’entreprise continuera à verser une gratification pour ancienneté d’un mois de salaire plus 1/12e de mois de salaire aux salariés de l’entreprise atteignant 43 et 48 ans d’ancienneté dans le Groupe. Cette gratification, n’entrant pas dans le cadre légal d’exonération, sera soumise à cotisations et contributions sociales (et à impôt sur le revenu).\n",
      "\n",
      "{'source': 'files_used\\\\qualite-vie-cond-travail.txt'}\n",
      "# Qualité de vie au travail\n",
      "\n",
      "Groupama Groupe a toujours eu à coeur d’améliorer la qualité de vie au travail des salariés. L’avenant du 15 décembre 2017 vient compléter l’accord du 28 février 2011 relatif à la qualité de vie au travail. Il réaffirme la volonté du Groupe d’améliorer la qualité de vie au travail des salariés, de prévenir, traiter et réduire les risques professionnels (troubles musculosquelettiques) et les risques psychosociaux (stress, harcèlement, violence au travail, incivilités...), en renforçant la prévention de ces risques. De même, des actions de sensibilisation ainsi que des mesures d’accompagnement sont proposées régulièrement aux collaborateurs.\n",
      "\n",
      "{'source': 'files_used\\\\rem-collective.txt'}\n",
      "# rémunération collective\n",
      "\n",
      "La participation De quoi s’agit-il ?\n",
      "\n",
      "La participation aux bénéfices de l’entreprise est un dispositif, obligatoire dans les entreprises de plus de 50 salariés, qui permet d’associer les salariés aux résultats de l’entreprise. Une partie du bénéfice de l’entreprise est affectée à la constitution d’une Réserve Spéciale de Participation (RSP) dont les bases de calcul sont fixées par le législateur. Cette réserve est répartie proportionnellement aux salaires. Qui peut en bénéficier ? Les salariés justifiant d’au moins 3 mois d’ancienneté dans le Groupe. Quelles sont vos possibilités ? Groupama Épargne Salariale vous adresse un bulletin qui vous permettra de choisir entre : - Percevoir immédiatement la somme. Dans ce cas, la somme est imposable au titre de l'impôt sur le revenu. - Verser une partie ou la totalité de la somme sur l’un des 5 fonds communs de placement du PEE et/ ou du PERCOL ; Les fonds ainsi placés sont exonérés d'impôt sur le revenu et de cotisations sociales (hors CSG/CRDS).\n",
      "\n",
      "L’intéressement De quoi s’agit\n",
      "\n",
      "\n",
      "\n",
      "il ?\n",
      "\n",
      "L’intéressement est une rémunération collective encadrée par un accord collectif revu tous les 3 ans et permettant d’associer les salariés aux résultats ou aux performances de l’entreprise. Il constitue un des dispositifs d’épargne salariale prévus par le législateur. Cet accord défini les critères permettant de constituer l’enveloppe del’intéressement et les modalités de distribution. Les primes d’intéressementsont versées au plus tard le 31 juillet de chaque année, au titre del’exercice précédent.\n",
      "\n",
      "Qui peut en bénéficier ?\n",
      "\n",
      "Les salariés justifiant d’au moins 3 mois d’ancienneté dans le Groupe peuvent bénéficier de la rémunération collectif.\n",
      "\n",
      "Quelles sont vos possibilités ?\n",
      "\n",
      "Groupama Epargne Salariale vous adresse un bulletin permettant de choisir vos options pour percevoir l'intéressement : - Percevoir immédiatement la somme. Dans ce cas, la somme est imposable au titre de l'impôt sur le revenu. - Verser une partie ou la totalité de la somme sur l’un des 5 fonds communs de placement du PEE et/ ou du PERCOL-I ; Les fonds ainsi placés sont exonérés d'impôt sur le revenu et de cotisations sociales (hors CSG/CRDS).\n",
      "\n",
      "{'source': 'files_used\\\\rem-individuelle.txt'}\n",
      "# Remuneration individuelle\n",
      "\n",
      "Selon votre statut, comment votre rémunération est-elle organisée ?\n",
      "\n",
      "Si vous êtes administratif ou inspecteur non commissionné : Votre rémunération fixe est versée sur 13 mois pour une année complète de travail. Selon votre ancienneté, votre statut et le poste que vous occupez, vous pouvez bénéficier en plus d’une prime d’expérience (pour les non cadres). Cette rémunération est complétée par une rémunération variable individuelle : la Prime d’Objectifs Annuels (POA) qui permet de reconnaître et de rétribuer votre performance individuelle. Son montant peut varier d’une année à l’autre en fonction de l’atteinte de vos objectifs individuels.\n",
      "\n",
      "Si vous êtes Inspecteur commissionné ou EPS: Votre rémunération fixe est versée sur 12 mois. Le montant de votre rémunération variable est déterminé en fonction du niveau d'atteinte des objectifs (quantitatifs et qualitatifs) fixés chaque année avec votre hiérarchie.\n",
      "\n",
      "{'source': 'files_used\\\\retraite.txt'}\n",
      "# Retraite\n",
      "\n",
      "Outre la protection immédiate, Gan Assurances vous accompagne dans la préparation de votre retraite Au sein de Gan Assurances, votre régime de retraite repose sur 3 niveaux.\n",
      "\n",
      "LE REGIME DE BASE DE LA SECURITE SOCIALE :\n",
      "\n",
      "Tout salarié est affilié au régime de base de la Sécurité Sociale au titre de l'assurance vieillesse. Le régime est alimenté par les cotisations sociales salariales et patronales. Toutes les informations sont disponibles via le site officiel de l'Assurance Retraite.\n",
      "\n",
      "LES REGIMES COMPLEMENTAIRES OBLIGATOIRES (ARRCO et AGIRC) :\n",
      "\n",
      "Les régimes de retraite ARRCO et AGIRC sont complémentaires au régime de retraite de base versée par la Sécurité sociale. Les salariés non cadres et cadres cotisent auprès d’une caisse de retraite complémentaire relevant du régime ARRCO. Les cadres cotisent également auprès d’une caisse relevant du régime AGIRC. Vous pouvez retrouver le détail de ces informations sur le site de l'ARRCO-AGIRC ou sur celui du B2V.\n",
      "\n",
      "LE FONDS DE PENSION DES SOCIETES D'ASSURANCE :\n",
      "\n",
      "En complément de ces dispositifs, le fonds de pension de la profession est un régime de retraite par capitalisation, géré par B2V Assurances. Il est alimenté par une cotisation supplémentaire de Gan Assurances. En parallèle, afin de compléter leur retraite, les salariés ont aussi la possibilité d'effectuer des versements individuels complémentaires : • de façon exceptionnelle : 300 € minimum. • ou mensuellement : 30 €/mois minimum Ces versements sont à effectuer directement auprès de B2V BCAC. Les modalités de versement sont les suivantes : - versement exceptionnel : Adressez un chèque bancaire ou postal d'un montant minimum de 300 € libellé à l'ordre de BCAC Fonds de pension, accompagné du formulaire de demande de versement volontaire et d'une photocopie de votre pièce d'identité. - Versements périodiques mensuels : Adressez le formulaire de demande de versement volontaire accompagnéd'une photocopie de votre pièce d'identité et du mandat SEPA complété et signé (montant minimum 30 €/mois).A tout moment les versements peuvent être augmentés, diminués ou suspendus en utilisant la dernière rubrique du formulaire.\n",
      "\n",
      "L'EPARGNE SALARIALE :\n",
      "\n",
      "Enfin, parmi les dispositifs d'épargne salariale mis en place au sein de Gan Assurances, certains sont spécifiquement dédiés à la constitution d'un Zcomplément de retraite.\n",
      "\n",
      "{'source': 'files_used\\\\sante.txt'}\n",
      "# Santé\n",
      "\n",
      "le régime de base de la Sécurité sociale, deux dispositifs de santé obligatoires sont mis en place pour les collaborateurs de Gan Assurances. Ces 2 régimes viennent compléter les prestations de base de la Sécurité Sociale. LE REGIME PROFESSIONNEL DE PREVOYANCE (RPP) Appelé aussi Bureau Commun des Assurances Collectives (BCAC) ou Groupe B2V assurances, le RPP est un dispositif de prévoyance dont l’adhésion, réservée à tous les collaborateurs de sociétés d’assurances en France, est obligatoire. Il intervient après la Sécurité Sociale et avant la mutuelle interentreprise Gan. Les garanties en matière de santé sont : - les remboursement des frais médicaux - les remboursements liées à l'hospitalisation\n",
      "\n",
      "Qui peut en bénéficier et à quel coût ? - Les Administratifs et Inspecteurs (commerciaux et experts) dès le 1er jour de travail pour tout nouvel embauché. Les cotisations sont majoritairement prises en charge par Gan Assurances. La cotisation salariale s’élève à 0,20 % pour un non cadre et 0,25 % pour un cadre. Un espace client est accessible sur Internet. Il vous appartient donc de vous créer un « espace client » sur ce site. Votre carte de Tiers Payant sera également disponible en version dématérialisée sur votre espace personnel. Les demandes de remboursements de soins doivent être adressées au centre de gestion : BCAC - Centre de gestion Santé & Prévoyance TSA 50001 78457 VELIZY VILLACOUBLAY CEDEX LA MUTUELLE INTERENTREPRISE GAN - Les salariés bénéficient, en complément de la prise en charge de la Sécurité sociale et du régime de Prévoyance Professionnel (RPP), de la mutuelle interentreprises Gan. - les salariés en CDI : l’adhésion est obligatoire - les salariés en CDD : l’adhésion est facultative, elle devient obligatoire pour tout contrat d’une durée au moins égale à 12 mois. Les collaborateurs en CDD peuvent néanmoins renoncer à l’adhésion à la condition qu’ils soient couverts par un autre contrat santé.\n",
      "\n",
      "Quel que soit votre statut, les garanties prennent effet dès le 1er jour de travail pour tout nouvel embauché. De plus, en complément du remboursement de vos frais de santé, vous pouvez bénéficiez des prestations suivantes : - Accès au réseau Sévéane dans les domaines optique/audioprothèses/dentaire : L’accès à ce réseau de partenaires vous permet de bénéficier : • de tarifs négociés sur des équipements et/ou des actes ; • de meilleurs remboursements sur certains actes et appareils ; • d’une qualité de services (après-vente), de soins et d’équipements ; • d’un tiers payant en optique, audiologie et chez la plupart des partenaires chirurgiens-dentistes. - Garantie Assistance : Cette garantie vous apporte une aide et vous propose des services dans différentes situations (hospitalisation ou immobilisation au domicile, accident au cours d’un déplacement privé ou professionnel, décès d’un proche…). INFO+ : Le Régime d'Assurance Maladie des Allocataires (RAMA)\n",
      "\n",
      "## RAMA\n",
      "\n",
      "Le RAMA est un dispositif de protection sociale réservé aux retraités. Son adhésion n'est pas obligatoire.\n",
      "\n",
      "{'source': 'files_used\\\\teletravail.txt'}\n",
      "# Télétravail\n",
      "\n",
      "Qui peut bénéficier du télétravail ?\n",
      "\n",
      "Ce dispositif est réservé aux professions qui ne rencontrent pas de difficultés techniques, organisationnelles et/ou métier induites par le travail à distance. Le télétravail est ouvert : • à tous les collaborateurs en CDI et CDD (à temps complet ou à temps partiel travaillant au moins 72% sur 4 jours) dès le 1er jour d'embauche. • aux alternants / stagiaires dès le 1er jour d'embauche.\n",
      "\n",
      "Le candidat au télétravail doit répondre à un certain nombre de critères liés à son métier, mais également à la compatibilité de son environnement personnel avec le télétravail et à son aptitude à travailler éloigné de son manager et du reste de l’équipe.\n",
      "\n",
      "Comment demander le télétravail ?\n",
      "\n",
      "Chaque année au mois de juin, Gan Assurances recueille les souhaits des collaborateurs (salariés administratifs) sur le télétravail via l'outil eTélétravail. Que cela soit pour une nouvelle demande ou une modification, vos souhaits doivent être formalisés via l'application eTélétravail. Chaque demande fait l'objet d'un entretien, puis d'une évaluation signée par le salarié, son manager. Si la demande est acceptée, elle est validée par la Direction des Ressources Humaines. Cette validation génèrera l'émission d'un avenant au contrat de travail ou d’un courrier organisant les modalités de mise en oeuvre (pour les alternants/stagiaires) que le collaborateur signera électroniquement. La mise en oeuvre des modalités définies en juin est effective à partir du 1er septembre.\n",
      "\n",
      "A chaque fin de période, un bilan sera fait avec le manager avant le renouvellement par tacite reconduction de l'avenant de télétravail. Les demandes sur une autre période devront être transmises à la DRH, en utilisant la boîte email : GAN_AS_ADP_TT@gan.fr\n",
      "\n",
      "## Mode de télétravail\n",
      "\n",
      "Il existe trois modes de télétravail : • Télétravail régulier avec un à deux jours de télétravail fixes ou variables par semaine. Les jours de télétravail pourront être variables, avec l’accord du manager. • Télétravail flexible : pour les salariés qui ne souhaitent pas être en télétravail chaque semaine, ou de façon régulière, il est prévu la mise en place d’un mode de télétravail flexible avec deux jours de télétravail maximum par mois. Ce ou ces jours sont fixés en concertation avec le manager.\n",
      "\n",
      "A noter : Le manager a la faculté d’assurer une équitable répartition des jours de télétravail fixes ou variables sur la semaine et en particulier les lundi ou vendredi, compatible avec l’organisation des activités et de l’équipe en Flex Office. Si vous souhaitez effectuer deux jours de télétravail par semaine, ceux-ci ne pourront pas être pris cumulativement le lundi et le vendredi. Un seul de ces jours pourra être placé sur le lundi ou le vendredi, l’autre jour pourra être positionné dans la semaine. Le manager aura la possibilité d’imposer un à deux jours de présence commun à toute l’équipe pendant la semaine.\n",
      "\n",
      "Autre condition :\n",
      "\n",
      "Il est possible, à titre exceptionnel et occasionnel et sur autorisation du manager, de télétravailler depuis toute autre résidence, dès lors que celle-ci répond aux mêmes conditions de conformité que le domicile habituel. Quelques informations complémentaires : • Les télétravailleurs ont la possibilité de télétravailler à titre occasionnel et exceptionnel, 5 jours supplémentaires (10 demi-journées) par an pour répondre à certaines contraintes • Les femmes enceintes peuvent bénéficier, si elles le souhaitent, d’un jour de télétravail supplémentaire pendant les 4 semaines précédant le congé de maternité • Les salariés disposant d’un restaurant d’entreprise sur leur site d’activité, y compris les alternants et stagiaires rémunérés (stages de plus de 2 mois), bénéficient désormais de titres-restaurant les jours de télétravail • Les alternants et stagiaires bénéficient de l’indemnité de télétravail de 25 euros • Les télétravailleurs flexibles bénéficient d’une indemnité de télétravail de 10 euros • Un forfait de remboursement des frais d’aménagement du domicile de 200 euros est mis en place pour les salariés nouvellement embauchés ainsi que pour les salariés embauchés ou devenus éligibles à ce remboursement à compter du 1er mars 2022 : pour plus de précisions sur les modalités de ce remboursement, reportez-vous à la note d’informations\n",
      "\n",
      "{'source': 'files_used\\\\temps-partiel.txt'}\n",
      "# Le temps partiel :\n",
      "\n",
      "Tous les ans, au mois de juin, Gan Assurances recueille les souhaits des collaborateurs (salariés administratifs) sur le temps partiel. Que cela soit pour une nouvelle demande, un renouvellement ou un retour à temps plein, les demandes doivent être formalisées via l'application eTempsPartiel. Pour vous accompagner dans cette nouvelle démarche, n'hésitez pas à consulter le guide.\n",
      "\n",
      "{'source': 'files_used\\\\temps-travail.txt'}\n",
      "# Temps de travail\n",
      "\n",
      "Tous les ans, au mois de juin, Gan Assurances recueille les souhaits des collaborateurs (salariés administratifs) sur le temps partiel. Que cela soit pour une nouvelle demande, un renouvellement ou un retour à temps plein, les demandes doivent être formalisées via l'application eTempsPartiel. Pour vous accompagner dans cette nouvelle démarche, n'hésitez pas à consulter le guide.\n",
      "\n",
      "## Les différentes formules\n",
      "\n",
      "Les différentes formules de temps partiel sont les suivantes : - Le temps partiel hebdomadaire (80 % sur 5 jours, 80 % sur 4 jours, 60 % sur 3 jours). - Le temps partiel pour raisons familiales (90 % : 25 jours non travaillés pendant les vacances scolaires, 72 % : 4 jours de travail hebdomadaires + 20 jours non travaillés pendant les vacances scolaires). - Le temps partiel seniors (80 % rémunéré 90 % par l’utilisation de 21 jours épargnés sur le CET, 80 % rémunéré à 100 % par l’utilisation de 41 jours épargnés sur le CET). Le travail à temps partiel est réservé aux salariés administratifs. A noter : Vous revenez de congés maternité, ou parental à temps plein et la campagne est fermée… Prenez contact avec votre consultant RH qui vous indiquera les modalités pour bénéficier du temps partiel dès à présent.\n",
      "\n",
      "{'source': 'files_used\\\\univ.txt'}\n",
      "# Univ'Gan\n",
      "\n",
      "Univ'Gan est l'appli développée par l'équipe de formation, en collaboration avec des salariés de Gan Assurances, vous permettant d'avoir accès à des dizaines de formation, de 2 à 20 minutes, toujours sous la main !\n",
      "\n"
     ]
    }
   ],
   "source": [
    "for d in docs:\n",
    "    print(d.metadata)\n",
    "    print(d.page_content)\n",
    "    print(\"\")"
   ]
  },
  {
   "cell_type": "code",
   "execution_count": 48,
   "metadata": {},
   "outputs": [
    {
     "ename": "TypeError",
     "evalue": "__init__() got an unexpected keyword argument 'breakpoint_threshold_type'",
     "output_type": "error",
     "traceback": [
      "\u001b[1;31m---------------------------------------------------------------------------\u001b[0m",
      "\u001b[1;31mTypeError\u001b[0m                                 Traceback (most recent call last)",
      "\u001b[1;32mc:\\Users\\Admin\\Documents\\GitHub\\local-rag\\RAGV3.ipynb Cellule 10\u001b[0m line \u001b[0;36m1\n\u001b[1;32m----> <a href='vscode-notebook-cell:/c%3A/Users/Admin/Documents/GitHub/local-rag/RAGV3.ipynb#X11sZmlsZQ%3D%3D?line=0'>1</a>\u001b[0m chunks \u001b[39m=\u001b[39m semantic_splitter(docs)\n",
      "\u001b[1;32mc:\\Users\\Admin\\Documents\\GitHub\\local-rag\\RAGV3.ipynb Cellule 10\u001b[0m line \u001b[0;36m5\n\u001b[0;32m     <a href='vscode-notebook-cell:/c%3A/Users/Admin/Documents/GitHub/local-rag/RAGV3.ipynb#X11sZmlsZQ%3D%3D?line=53'>54</a>\u001b[0m         \u001b[39mraise\u001b[39;00m \u001b[39mValueError\u001b[39;00m(\u001b[39mf\u001b[39m\u001b[39m\"\u001b[39m\u001b[39mDocument \u001b[39m\u001b[39m{\u001b[39;00md\u001b[39m}\u001b[39;00m\u001b[39m has empty page content.\u001b[39m\u001b[39m\"\u001b[39m)\n\u001b[0;32m     <a href='vscode-notebook-cell:/c%3A/Users/Admin/Documents/GitHub/local-rag/RAGV3.ipynb#X11sZmlsZQ%3D%3D?line=55'>56</a>\u001b[0m \u001b[39m# Split based on semantic similarity\u001b[39;00m\n\u001b[1;32m---> <a href='vscode-notebook-cell:/c%3A/Users/Admin/Documents/GitHub/local-rag/RAGV3.ipynb#X11sZmlsZQ%3D%3D?line=56'>57</a>\u001b[0m semantic_chunker \u001b[39m=\u001b[39m SemanticChunker(\n\u001b[0;32m     <a href='vscode-notebook-cell:/c%3A/Users/Admin/Documents/GitHub/local-rag/RAGV3.ipynb#X11sZmlsZQ%3D%3D?line=57'>58</a>\u001b[0m     embeddings, breakpoint_threshold_type\u001b[39m=\u001b[39;49m\u001b[39m\"\u001b[39;49m\u001b[39mpercentile\u001b[39;49m\u001b[39m\"\u001b[39;49m\n\u001b[0;32m     <a href='vscode-notebook-cell:/c%3A/Users/Admin/Documents/GitHub/local-rag/RAGV3.ipynb#X11sZmlsZQ%3D%3D?line=58'>59</a>\u001b[0m )\n\u001b[0;32m     <a href='vscode-notebook-cell:/c%3A/Users/Admin/Documents/GitHub/local-rag/RAGV3.ipynb#X11sZmlsZQ%3D%3D?line=60'>61</a>\u001b[0m \u001b[39m# Extraire le contenu des pages\u001b[39;00m\n\u001b[0;32m     <a href='vscode-notebook-cell:/c%3A/Users/Admin/Documents/GitHub/local-rag/RAGV3.ipynb#X11sZmlsZQ%3D%3D?line=61'>62</a>\u001b[0m page_contents \u001b[39m=\u001b[39m [d\u001b[39m.\u001b[39mpage_content \u001b[39mfor\u001b[39;00m d \u001b[39min\u001b[39;00m docs]\n",
      "\u001b[1;31mTypeError\u001b[0m: __init__() got an unexpected keyword argument 'breakpoint_threshold_type'"
     ]
    }
   ],
   "source": [
    "chunks = semantic_splitter(docs)"
   ]
  },
  {
   "cell_type": "code",
   "execution_count": null,
   "metadata": {},
   "outputs": [],
   "source": [
    "# If the directory exists, first delete it\n",
    "try:\n",
    "    shutil.rmtree(persist_directory)\n",
    "except FileNotFoundError as e:\n",
    "    pass\n",
    "\n",
    "# Create vector store and save the db\n",
    "db = Chroma.from_documents(\n",
    "    chunks, \n",
    "    embeddings,\n",
    "    persist_directory=persist_directory\n",
    ")\n",
    "db.persist()"
   ]
  },
  {
   "cell_type": "code",
   "execution_count": null,
   "metadata": {},
   "outputs": [],
   "source": [
    "db._collection.count()"
   ]
  },
  {
   "cell_type": "markdown",
   "metadata": {},
   "source": [
    "### Chroma connection"
   ]
  },
  {
   "cell_type": "code",
   "execution_count": 3,
   "metadata": {},
   "outputs": [],
   "source": [
    "# Embeddings and vector store\n",
    "from langchain.vectorstores import Chroma\n",
    "\n",
    "persist_directory = './db/chromas-e5-large'"
   ]
  },
  {
   "cell_type": "code",
   "execution_count": 4,
   "metadata": {},
   "outputs": [],
   "source": [
    "from langchain_community.embeddings import HuggingFaceEmbeddings\n",
    "\n",
    "# Define the path to the pre-trained model you want to use\n",
    "# modelPath = \"model_files/dangvantuan/sentence-camembert-large\"\n",
    "# modelPath = \"model_files/Salesforce/SFR-Embedding-Mistral\"\n",
    "# modelPath = \"model_files/mistral-e5/e5-mistral-7b-instruct\"\n",
    "modelPath = \"model_files/e5-large/multilingual-e5-large\"\n",
    "\n",
    "# Create a dictionary with model configuration options, specifying to use the CPU for computations\n",
    "model_kwargs = {'device':'cpu'}\n",
    "\n",
    "# Create a dictionary with encoding options, specifically setting 'normalize_embeddings' to False\n",
    "encode_kwargs = {'normalize_embeddings': False}\n",
    "\n",
    "# Initialize an instance of HuggingFaceEmbeddings with the specified parameters\n",
    "embeddings = HuggingFaceEmbeddings(\n",
    "    model_name=modelPath,     # Provide the pre-trained model's path\n",
    "    model_kwargs=model_kwargs, # Pass the model configuration options\n",
    "    encode_kwargs=encode_kwargs, # Pass the encoding options\n",
    ")"
   ]
  },
  {
   "cell_type": "code",
   "execution_count": 5,
   "metadata": {},
   "outputs": [],
   "source": [
    "db = Chroma(persist_directory=persist_directory, embedding_function=embeddings)"
   ]
  },
  {
   "cell_type": "code",
   "execution_count": 14,
   "metadata": {},
   "outputs": [],
   "source": [
    "retriever = db.as_retriever(\n",
    "    search_type=\"similarity_score_threshold\", search_kwargs={\"score_threshold\": 0.7}\n",
    ")\n"
   ]
  },
  {
   "cell_type": "markdown",
   "metadata": {},
   "source": [
    "### LLM Model"
   ]
  },
  {
   "cell_type": "code",
   "execution_count": 7,
   "metadata": {},
   "outputs": [
    {
     "data": {
      "text/plain": [
       "True"
      ]
     },
     "execution_count": 7,
     "metadata": {},
     "output_type": "execute_result"
    }
   ],
   "source": [
    "import torch\n",
    "\n",
    "torch.cuda.is_available()"
   ]
  },
  {
   "cell_type": "code",
   "execution_count": 8,
   "metadata": {},
   "outputs": [
    {
     "data": {
      "application/vnd.jupyter.widget-view+json": {
       "model_id": "35be48da151843aaa578a600855e3e49",
       "version_major": 2,
       "version_minor": 0
      },
      "text/plain": [
       "Loading checkpoint shards:   0%|          | 0/3 [00:00<?, ?it/s]"
      ]
     },
     "metadata": {},
     "output_type": "display_data"
    }
   ],
   "source": [
    "from transformers import BitsAndBytesConfig, AutoModelForCausalLM, AutoTokenizer, GenerationConfig, pipeline\n",
    "\n",
    "\n",
    "MODEL_NAME = \"model_files/mistralai/Mistral-7B-Instruct-v0.2\"\n",
    "\n",
    "quantization_config = BitsAndBytesConfig(\n",
    "    load_in_4bit=True,\n",
    "    bnb_4bit_compute_dtype=torch.float16,\n",
    "    bnb_4bit_quant_type=\"nf4\",\n",
    "    bnb_4bit_use_double_quant=True,\n",
    "    \n",
    ")\n",
    "\n",
    "tokenizer = AutoTokenizer.from_pretrained(MODEL_NAME, use_fast=True,local_files_only=True)\n",
    "tokenizer.pad_token = tokenizer.eos_token\n",
    "\n",
    "model = AutoModelForCausalLM.from_pretrained(\n",
    "    MODEL_NAME, torch_dtype=torch.float32,\n",
    "    trust_remote_code=True,\n",
    "    device_map=\"auto\",\n",
    "    local_files_only=True,\n",
    "    # quantization_config=quantization_config\n",
    ")"
   ]
  },
  {
   "cell_type": "code",
   "execution_count": 9,
   "metadata": {},
   "outputs": [],
   "source": [
    "\n",
    "\n",
    "generation_config = GenerationConfig.from_pretrained(MODEL_NAME)\n",
    "generation_config.temperature = 0.0001\n",
    "generation_config.top_p = 0.95\n",
    "generation_config.do_sample = True\n",
    "generation_config.repetition_penalty = 1.15\n",
    "\n",
    "pipeline = pipeline(\n",
    "    \"text-generation\",\n",
    "    model=model,\n",
    "    tokenizer=tokenizer,\n",
    "    return_full_text=True,\n",
    "    generation_config=generation_config,\n",
    "    max_new_tokens=1048,\n",
    ")"
   ]
  },
  {
   "cell_type": "code",
   "execution_count": 10,
   "metadata": {},
   "outputs": [],
   "source": [
    "from langchain.llms.huggingface_pipeline import HuggingFacePipeline\n",
    "\n",
    "llm = HuggingFacePipeline(\n",
    "    pipeline=pipeline,\n",
    "    )"
   ]
  },
  {
   "cell_type": "markdown",
   "metadata": {},
   "source": [
    "### Chain"
   ]
  },
  {
   "cell_type": "code",
   "execution_count": 17,
   "metadata": {},
   "outputs": [],
   "source": [
    "from langchain_core.prompts import PromptTemplate\n",
    "\n",
    "template = \"\"\"Instruction: Vous êtes un assistant des ressources humaine au sein de la compagnie d'assurance de Gan Assurances. Des questions et des données de contexte vous seront fournies. Répondez aux questions en utilisant les données de contexte fournies. Si la réponse n'est pas dans le contexte ou que le contexte ne correspond pas à la question, répondez simplement par \"Je ne sais pas\".\n",
    "De plus, vous répondrez en français.\n",
    "\n",
    "{context}\n",
    "\n",
    "Question: {question}\n",
    "\n",
    "Réponse:\"\"\"\n",
    "\n",
    "\n",
    "prompt = PromptTemplate.from_template(template)"
   ]
  },
  {
   "cell_type": "code",
   "execution_count": 12,
   "metadata": {},
   "outputs": [],
   "source": [
    "from langchain_core.output_parsers import StrOutputParser\n",
    "from langchain_core.runnables import RunnablePassthrough\n",
    "\n",
    "\n",
    "def format_docs(docs):\n",
    "    return \"\\n\\n\".join(doc.page_content for doc in docs)"
   ]
  },
  {
   "cell_type": "markdown",
   "metadata": {},
   "source": [
    "> ### Classic ask"
   ]
  },
  {
   "cell_type": "code",
   "execution_count": 48,
   "metadata": {},
   "outputs": [],
   "source": [
    "\n",
    "\n",
    "rag_chain = (\n",
    "    {\"context\": retriever | format_docs, \"question\": RunnablePassthrough()}\n",
    "    | prompt\n",
    "    | llm\n",
    "    | StrOutputParser()\n",
    ")"
   ]
  },
  {
   "cell_type": "code",
   "execution_count": 49,
   "metadata": {},
   "outputs": [
    {
     "name": "stderr",
     "output_type": "stream",
     "text": [
      "Setting `pad_token_id` to `eos_token_id`:2 for open-end generation.\n"
     ]
    },
    {
     "data": {
      "text/plain": [
       "\" Selon votre statut, vous disposez de 205 jours travaillés par an. Cependant, vous pouvez prendre jusqu'à 20 jours de congés payés par an. En outre, il existe des congés exceptionnels comme ceux liés à l'obtention d'un permis de conduire ou à un déménagement.\""
      ]
     },
     "execution_count": 49,
     "metadata": {},
     "output_type": "execute_result"
    }
   ],
   "source": [
    "rag_chain.invoke(\"Combien ais-je de jours de congés par an ?\")"
   ]
  },
  {
   "cell_type": "markdown",
   "metadata": {},
   "source": [
    "> ### Ask with source documents"
   ]
  },
  {
   "cell_type": "code",
   "execution_count": 50,
   "metadata": {},
   "outputs": [],
   "source": [
    "from langchain_core.runnables import RunnableParallel\n",
    "\n",
    "rag_chain_from_docs = (\n",
    "    RunnablePassthrough.assign(context=(lambda x: format_docs(x[\"context\"])))\n",
    "    | prompt\n",
    "    | llm\n",
    "    | StrOutputParser()\n",
    ")\n",
    "\n",
    "rag_chain_with_source = RunnableParallel(\n",
    "    {\"context\": retriever, \"question\": RunnablePassthrough()}\n",
    ").assign(answer=rag_chain_from_docs)"
   ]
  },
  {
   "cell_type": "code",
   "execution_count": 51,
   "metadata": {},
   "outputs": [
    {
     "name": "stderr",
     "output_type": "stream",
     "text": [
      "Setting `pad_token_id` to `eos_token_id`:2 for open-end generation.\n"
     ]
    }
   ],
   "source": [
    "response = rag_chain_with_source.invoke(\"Combien ais-je de jours de congés par an ?\")"
   ]
  },
  {
   "cell_type": "code",
   "execution_count": 52,
   "metadata": {},
   "outputs": [
    {
     "data": {
      "text/plain": [
       "[Document(page_content=\"Vous pouvez bénéficier de jours d'absences autorisées à caractère exceptionnel, pour les motifs ci-dessous. Permis de conduire \\u200b\\u200b\\u200b\\u200b\\u200b\\u200b\\u200bIl est possible de prendre 1/2 journée de congé en vue de l'examen pour l'obtention du permis de conduire. Déménagement Les salariés titulaires peuvent prendre 1 journée de congé au titre d'un déménagement (une fois par an).\", metadata={'Sous-titre 1': 'Autres congés :', 'Titre 1': 'Congés enfants', 'source': 'files_used\\\\enfants.txt'}),\n",
       " Document(page_content='La durée des congés payés pouvant être pris en une seule fois ne peut excéder 20 jours ouvrés. Le congé principal (congés d’été) doit être pris du 1er mai au 31 octobre pour une durée minimum de 10 jours ouvrés consécutifs et ne dépassant pas 20 jours ouvrés. Il est cependant recommandé que les congés d’été soient pris, dans la mesure du possible, entre le 1er juin et le 30 septembre. Les autres jours peuvent être pris en dehors de la période de mai à octobre, de préférence par semaine entière afin de permettre une meilleure organisation de l’activité. En tout état de cause les congés payés doivent pouvoir être pris avant le 31 mai.', metadata={'Sous-titre 1': 'Modalités de prise des congés payés:', 'Titre 1': 'Congés payés', 'source': 'files_used\\\\congés-payés.txt'}),\n",
       " Document(page_content=\"Le nombre de jours travaillés dépend de votre statut : • Administratif - Non Cadre : 205 jours travaillés • Administratif - Cadre : 205 jours travaillés • Inspecteur : 205 jours travaillés • Chargé de missions : 217 jours travaillés  \\nIl est accordé des jours de repos supplémentaires si l’année comporte moins de 9 jours fériés durant les jours ouvrés (du lundi au vendredi). Au même titre que l’application de la journée de solidarité, l’entreprise peut décider de procéder à des journées de fermeture collectives durant l’année qui décompteront des jours RTT pour chaque salarié. Vous pouvez poser ces jours ou consulter votre solde via eTemptation, l'outil de gestion et suivi du temps de travail, vous permet de badger, faire une demande d'absence, consulter votre solde de congés ou de RTT ou encore pour les salariés au forfait jours, de faire leur déclaration de présence mensuelle.\", metadata={'Titre 1': 'Congés payés', 'source': 'files_used\\\\congés-payés.txt'}),\n",
       " Document(page_content='La prise de congés principaux en dehors de la période légale ouvre droit à des jours de congés supplémentaires. Chaque salarié peut voir le nombre de ses congés payés majoré de 1 à 2 jours supplémentaires à raison de : 2 jours ouvrés de congés supplémentaires lorsque le nombre de jours de congés pris entre le 1er novembre et le 31 mai de chaque année est au moins égal à 5 ; 1 jour ouvré de congé supplémentaire lorsque le nombre de jours de congés pris entre le 1er novembre et le 31 mai de chaque année est compris entre 2 et 4.', metadata={'Titre 1': 'Jours de fractionnement :', 'source': 'files_used\\\\frac.txt'})]"
      ]
     },
     "execution_count": 52,
     "metadata": {},
     "output_type": "execute_result"
    }
   ],
   "source": [
    "response[\"context\"]"
   ]
  },
  {
   "cell_type": "code",
   "execution_count": 53,
   "metadata": {},
   "outputs": [
    {
     "data": {
      "text/plain": [
       "\"Vous pouvez bénéficier de jours d'absences autorisées à caractère exceptionnel, pour les motifs ci-dessous. Permis de conduire \\u200b\\u200b\\u200b\\u200b\\u200b\\u200b\\u200bIl est possible de prendre 1/2 journée de congé en vue de l'examen pour l'obtention du permis de conduire. Déménagement Les salariés titulaires peuvent prendre 1 journée de congé au titre d'un déménagement (une fois par an).\\n\\nLa durée des congés payés pouvant être pris en une seule fois ne peut excéder 20 jours ouvrés. Le congé principal (congés d’été) doit être pris du 1er mai au 31 octobre pour une durée minimum de 10 jours ouvrés consécutifs et ne dépassant pas 20 jours ouvrés. Il est cependant recommandé que les congés d’été soient pris, dans la mesure du possible, entre le 1er juin et le 30 septembre. Les autres jours peuvent être pris en dehors de la période de mai à octobre, de préférence par semaine entière afin de permettre une meilleure organisation de l’activité. En tout état de cause les congés payés doivent pouvoir être pris avant le 31 mai.\\n\\nLe nombre de jours travaillés dépend de votre statut : • Administratif - Non Cadre : 205 jours travaillés • Administratif - Cadre : 205 jours travaillés • Inspecteur : 205 jours travaillés • Chargé de missions : 217 jours travaillés  \\nIl est accordé des jours de repos supplémentaires si l’année comporte moins de 9 jours fériés durant les jours ouvrés (du lundi au vendredi). Au même titre que l’application de la journée de solidarité, l’entreprise peut décider de procéder à des journées de fermeture collectives durant l’année qui décompteront des jours RTT pour chaque salarié. Vous pouvez poser ces jours ou consulter votre solde via eTemptation, l'outil de gestion et suivi du temps de travail, vous permet de badger, faire une demande d'absence, consulter votre solde de congés ou de RTT ou encore pour les salariés au forfait jours, de faire leur déclaration de présence mensuelle.\\n\\nLa prise de congés principaux en dehors de la période légale ouvre droit à des jours de congés supplémentaires. Chaque salarié peut voir le nombre de ses congés payés majoré de 1 à 2 jours supplémentaires à raison de : 2 jours ouvrés de congés supplémentaires lorsque le nombre de jours de congés pris entre le 1er novembre et le 31 mai de chaque année est au moins égal à 5 ; 1 jour ouvré de congé supplémentaire lorsque le nombre de jours de congés pris entre le 1er novembre et le 31 mai de chaque année est compris entre 2 et 4.\\n\\n\""
      ]
     },
     "execution_count": 53,
     "metadata": {},
     "output_type": "execute_result"
    }
   ],
   "source": [
    "\n",
    "cont = \"\"\n",
    "for context in response[\"context\"]:\n",
    "        cont += context.page_content + \"\\n\\n\"\n",
    "cont"
   ]
  },
  {
   "cell_type": "markdown",
   "metadata": {},
   "source": [
    "> ### Passing manual docs + Q&A"
   ]
  },
  {
   "cell_type": "code",
   "execution_count": 1,
   "metadata": {},
   "outputs": [],
   "source": [
    "question = \"combien de jours de congés ?\""
   ]
  },
  {
   "cell_type": "code",
   "execution_count": 15,
   "metadata": {},
   "outputs": [],
   "source": [
    "docs = retriever.get_relevant_documents(question, consider_metadata=True)"
   ]
  },
  {
   "cell_type": "code",
   "execution_count": 32,
   "metadata": {},
   "outputs": [
    {
     "data": {
      "text/plain": [
       "'files_used\\\\enfants.txt'"
      ]
     },
     "execution_count": 32,
     "metadata": {},
     "output_type": "execute_result"
    }
   ],
   "source": [
    "docs[3].metadata[\"source\"]"
   ]
  },
  {
   "cell_type": "code",
   "execution_count": 18,
   "metadata": {},
   "outputs": [
    {
     "name": "stderr",
     "output_type": "stream",
     "text": [
      "Setting `pad_token_id` to `eos_token_id`:2 for open-end generation.\n"
     ]
    },
    {
     "data": {
      "text/plain": [
       "\" Selon votre statut, vous pouvez avoir jusqu'à 205 jours travaillés par an. Les congés payés ne peuvent excéder 20 jours ouvrés (lundi à vendredi), mais il est possible de recevoir des jours supplémentaires selon certains critères tels que la prise de congés hors période principale ou le nombre de jours travaillés. Par ailleurs, vous pouvez également bénéficier de jours d'absences autorisées à caractère exceptionnel comme un examen pour l'obtention du permis de conduire ou un déménagement.\""
      ]
     },
     "execution_count": 18,
     "metadata": {},
     "output_type": "execute_result"
    }
   ],
   "source": [
    "from langchain_core.runnables import RunnablePassthrough, RunnablePick\n",
    "\n",
    "# Chain\n",
    "chain = (\n",
    "    RunnablePassthrough.assign(context=RunnablePick(\"context\") | format_docs)\n",
    "    | prompt\n",
    "    | llm\n",
    "    | StrOutputParser()\n",
    ")\n",
    "\n",
    "# Run\n",
    "chain.invoke({\"context\": docs, \"question\": question})"
   ]
  },
  {
   "cell_type": "markdown",
   "metadata": {},
   "source": [
    "### Run on questions"
   ]
  },
  {
   "cell_type": "code",
   "execution_count": 19,
   "metadata": {},
   "outputs": [],
   "source": [
    "import pandas as pd\n",
    "Q = pd.read_csv(\"test-for-app-mistral-e5large.csv\",sep=\";\",encoding=\"latin1\")"
   ]
  },
  {
   "cell_type": "code",
   "execution_count": 33,
   "metadata": {},
   "outputs": [
    {
     "name": "stderr",
     "output_type": "stream",
     "text": [
      "  0%|          | 0/25 [00:00<?, ?it/s]Setting `pad_token_id` to `eos_token_id`:2 for open-end generation.\n",
      "  4%|▍         | 1/25 [16:01<6:24:30, 961.27s/it]Setting `pad_token_id` to `eos_token_id`:2 for open-end generation.\n",
      "  8%|▊         | 2/25 [28:05<5:15:02, 821.86s/it]Setting `pad_token_id` to `eos_token_id`:2 for open-end generation.\n",
      " 12%|█▏        | 3/25 [43:19<5:16:47, 863.98s/it]Setting `pad_token_id` to `eos_token_id`:2 for open-end generation.\n",
      " 16%|█▌        | 4/25 [1:02:24<5:41:15, 975.03s/it]Setting `pad_token_id` to `eos_token_id`:2 for open-end generation.\n",
      " 20%|██        | 5/25 [1:07:27<4:04:12, 732.61s/it]Setting `pad_token_id` to `eos_token_id`:2 for open-end generation.\n",
      " 24%|██▍       | 6/25 [1:13:10<3:10:03, 600.19s/it]c:\\ProgramData\\anaconda3\\envs\\local-rag\\lib\\site-packages\\transformers\\pipelines\\base.py:1101: UserWarning: You seem to be using the pipelines sequentially on GPU. In order to maximize efficiency please use a dataset\n",
      "  warnings.warn(\n",
      "Setting `pad_token_id` to `eos_token_id`:2 for open-end generation.\n",
      " 28%|██▊       | 7/25 [1:17:55<2:29:03, 496.88s/it]c:\\ProgramData\\anaconda3\\envs\\local-rag\\lib\\site-packages\\transformers\\pipelines\\base.py:1101: UserWarning: You seem to be using the pipelines sequentially on GPU. In order to maximize efficiency please use a dataset\n",
      "  warnings.warn(\n",
      "Setting `pad_token_id` to `eos_token_id`:2 for open-end generation.\n",
      " 32%|███▏      | 8/25 [1:22:30<2:00:46, 426.26s/it]c:\\ProgramData\\anaconda3\\envs\\local-rag\\lib\\site-packages\\transformers\\pipelines\\base.py:1101: UserWarning: You seem to be using the pipelines sequentially on GPU. In order to maximize efficiency please use a dataset\n",
      "  warnings.warn(\n",
      "Setting `pad_token_id` to `eos_token_id`:2 for open-end generation.\n",
      " 36%|███▌      | 9/25 [1:46:31<3:18:19, 743.69s/it]c:\\ProgramData\\anaconda3\\envs\\local-rag\\lib\\site-packages\\transformers\\pipelines\\base.py:1101: UserWarning: You seem to be using the pipelines sequentially on GPU. In order to maximize efficiency please use a dataset\n",
      "  warnings.warn(\n",
      "Setting `pad_token_id` to `eos_token_id`:2 for open-end generation.\n",
      " 40%|████      | 10/25 [1:57:05<2:57:24, 709.61s/it]c:\\ProgramData\\anaconda3\\envs\\local-rag\\lib\\site-packages\\transformers\\pipelines\\base.py:1101: UserWarning: You seem to be using the pipelines sequentially on GPU. In order to maximize efficiency please use a dataset\n",
      "  warnings.warn(\n",
      "Setting `pad_token_id` to `eos_token_id`:2 for open-end generation.\n",
      " 44%|████▍     | 11/25 [2:12:56<3:02:49, 783.54s/it]c:\\ProgramData\\anaconda3\\envs\\local-rag\\lib\\site-packages\\transformers\\pipelines\\base.py:1101: UserWarning: You seem to be using the pipelines sequentially on GPU. In order to maximize efficiency please use a dataset\n",
      "  warnings.warn(\n",
      "Setting `pad_token_id` to `eos_token_id`:2 for open-end generation.\n",
      " 48%|████▊     | 12/25 [2:34:13<3:22:18, 933.74s/it]c:\\ProgramData\\anaconda3\\envs\\local-rag\\lib\\site-packages\\transformers\\pipelines\\base.py:1101: UserWarning: You seem to be using the pipelines sequentially on GPU. In order to maximize efficiency please use a dataset\n",
      "  warnings.warn(\n",
      "Setting `pad_token_id` to `eos_token_id`:2 for open-end generation.\n",
      " 52%|█████▏    | 13/25 [2:40:03<2:31:23, 756.97s/it]c:\\ProgramData\\anaconda3\\envs\\local-rag\\lib\\site-packages\\transformers\\pipelines\\base.py:1101: UserWarning: You seem to be using the pipelines sequentially on GPU. In order to maximize efficiency please use a dataset\n",
      "  warnings.warn(\n",
      "Setting `pad_token_id` to `eos_token_id`:2 for open-end generation.\n",
      " 56%|█████▌    | 14/25 [2:44:45<1:52:28, 613.48s/it]c:\\ProgramData\\anaconda3\\envs\\local-rag\\lib\\site-packages\\transformers\\pipelines\\base.py:1101: UserWarning: You seem to be using the pipelines sequentially on GPU. In order to maximize efficiency please use a dataset\n",
      "  warnings.warn(\n",
      "Setting `pad_token_id` to `eos_token_id`:2 for open-end generation.\n",
      " 60%|██████    | 15/25 [2:54:47<1:41:40, 610.01s/it]c:\\ProgramData\\anaconda3\\envs\\local-rag\\lib\\site-packages\\transformers\\pipelines\\base.py:1101: UserWarning: You seem to be using the pipelines sequentially on GPU. In order to maximize efficiency please use a dataset\n",
      "  warnings.warn(\n",
      "Setting `pad_token_id` to `eos_token_id`:2 for open-end generation.\n",
      " 64%|██████▍   | 16/25 [3:10:16<1:45:54, 706.02s/it]c:\\ProgramData\\anaconda3\\envs\\local-rag\\lib\\site-packages\\transformers\\pipelines\\base.py:1101: UserWarning: You seem to be using the pipelines sequentially on GPU. In order to maximize efficiency please use a dataset\n",
      "  warnings.warn(\n",
      "Setting `pad_token_id` to `eos_token_id`:2 for open-end generation.\n",
      " 68%|██████▊   | 17/25 [3:17:39<1:23:35, 626.94s/it]c:\\ProgramData\\anaconda3\\envs\\local-rag\\lib\\site-packages\\transformers\\pipelines\\base.py:1101: UserWarning: You seem to be using the pipelines sequentially on GPU. In order to maximize efficiency please use a dataset\n",
      "  warnings.warn(\n",
      "Setting `pad_token_id` to `eos_token_id`:2 for open-end generation.\n",
      " 72%|███████▏  | 18/25 [3:21:54<1:00:06, 515.18s/it]c:\\ProgramData\\anaconda3\\envs\\local-rag\\lib\\site-packages\\transformers\\pipelines\\base.py:1101: UserWarning: You seem to be using the pipelines sequentially on GPU. In order to maximize efficiency please use a dataset\n",
      "  warnings.warn(\n",
      "Setting `pad_token_id` to `eos_token_id`:2 for open-end generation.\n",
      " 76%|███████▌  | 19/25 [3:41:59<1:12:13, 722.31s/it]c:\\ProgramData\\anaconda3\\envs\\local-rag\\lib\\site-packages\\transformers\\pipelines\\base.py:1101: UserWarning: You seem to be using the pipelines sequentially on GPU. In order to maximize efficiency please use a dataset\n",
      "  warnings.warn(\n",
      "Setting `pad_token_id` to `eos_token_id`:2 for open-end generation.\n",
      " 80%|████████  | 20/25 [3:44:58<46:36, 559.28s/it]  c:\\ProgramData\\anaconda3\\envs\\local-rag\\lib\\site-packages\\transformers\\pipelines\\base.py:1101: UserWarning: You seem to be using the pipelines sequentially on GPU. In order to maximize efficiency please use a dataset\n",
      "  warnings.warn(\n",
      "Setting `pad_token_id` to `eos_token_id`:2 for open-end generation.\n",
      " 84%|████████▍ | 21/25 [3:50:10<32:19, 484.84s/it]c:\\ProgramData\\anaconda3\\envs\\local-rag\\lib\\site-packages\\transformers\\pipelines\\base.py:1101: UserWarning: You seem to be using the pipelines sequentially on GPU. In order to maximize efficiency please use a dataset\n",
      "  warnings.warn(\n",
      "Setting `pad_token_id` to `eos_token_id`:2 for open-end generation.\n",
      " 88%|████████▊ | 22/25 [4:08:47<33:44, 674.85s/it]c:\\ProgramData\\anaconda3\\envs\\local-rag\\lib\\site-packages\\transformers\\pipelines\\base.py:1101: UserWarning: You seem to be using the pipelines sequentially on GPU. In order to maximize efficiency please use a dataset\n",
      "  warnings.warn(\n",
      "Setting `pad_token_id` to `eos_token_id`:2 for open-end generation.\n",
      " 92%|█████████▏| 23/25 [4:15:31<19:47, 593.53s/it]c:\\ProgramData\\anaconda3\\envs\\local-rag\\lib\\site-packages\\transformers\\pipelines\\base.py:1101: UserWarning: You seem to be using the pipelines sequentially on GPU. In order to maximize efficiency please use a dataset\n",
      "  warnings.warn(\n",
      "Setting `pad_token_id` to `eos_token_id`:2 for open-end generation.\n",
      " 96%|█████████▌| 24/25 [4:27:40<10:33, 633.94s/it]c:\\ProgramData\\anaconda3\\envs\\local-rag\\lib\\site-packages\\transformers\\pipelines\\base.py:1101: UserWarning: You seem to be using the pipelines sequentially on GPU. In order to maximize efficiency please use a dataset\n",
      "  warnings.warn(\n",
      "Setting `pad_token_id` to `eos_token_id`:2 for open-end generation.\n",
      "100%|██████████| 25/25 [5:04:27<00:00, 730.68s/it] \n"
     ]
    }
   ],
   "source": [
    "from tqdm import tqdm\n",
    "import time\n",
    "\n",
    "Q[\"result\"] = \"\"\n",
    "Q[\"time\"] = \"\"\n",
    "Q[\"context\"] = \"\"\n",
    "Q[\"source\"] = \"\"\n",
    "for i in tqdm(Q.index):\n",
    "    question = Q[\"Q\"][i]\n",
    "    start_time = time.time()\n",
    "    docs = retriever.get_relevant_documents(question, consider_metadata=True)\n",
    "    response = chain.invoke({\"context\": docs, \"question\": question})\n",
    "    Q[\"result\"][i] = response\n",
    "    compt = 0\n",
    "    for j in range(len(docs)):\n",
    "        Q[\"context\"][i] += str(compt) + \" : \" + docs[j].page_content +\" \\n \"\n",
    "        Q[\"source\"][i] += str(compt) + \" : \" + docs[j].metadata[\"source\"] +\" \\n \"\n",
    "        compt+=1\n",
    "    Q[\"time\"][i] = time.time() - start_time\n",
    "    \n",
    "\n"
   ]
  },
  {
   "cell_type": "code",
   "execution_count": 34,
   "metadata": {},
   "outputs": [],
   "source": [
    "Q.to_csv(\"test-for-app-mistral-e5large-result-2.csv\",sep=\";\",encoding=\"utf-8\",index=False)"
   ]
  }
 ],
 "metadata": {
  "kernelspec": {
   "display_name": "local-rag",
   "language": "python",
   "name": "python3"
  },
  "language_info": {
   "codemirror_mode": {
    "name": "ipython",
    "version": 3
   },
   "file_extension": ".py",
   "mimetype": "text/x-python",
   "name": "python",
   "nbconvert_exporter": "python",
   "pygments_lexer": "ipython3",
   "version": "3.9.18"
  }
 },
 "nbformat": 4,
 "nbformat_minor": 2
}
