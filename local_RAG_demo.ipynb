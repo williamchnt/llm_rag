{
 "cells": [
  {
   "cell_type": "markdown",
   "metadata": {},
   "source": [
    "# Notebook Showing How to Use Unstructured-Ingest to Pre-Process Local Documents"
   ]
  },
  {
   "cell_type": "markdown",
   "metadata": {},
   "source": [
    "### Constants + Parameters"
   ]
  },
  {
   "cell_type": "code",
   "execution_count": 117,
   "metadata": {},
   "outputs": [],
   "source": [
    "output_dir = 'my-docs'\n",
    "input_dir = 'files_used'\n",
    "weaviate_url = \"http://localhost:8080\"\n",
    "embedding_model_name = 'all-MiniLM-L6-v2'"
   ]
  },
  {
   "cell_type": "markdown",
   "metadata": {},
   "source": [
    "## Ingestion Pipeline for VectorDB (Weaviate)"
   ]
  },
  {
   "cell_type": "markdown",
   "metadata": {},
   "source": [
    "### Helper Functions to Ingest Documents and Pre-Process Them"
   ]
  },
  {
   "cell_type": "code",
   "execution_count": 118,
   "metadata": {},
   "outputs": [],
   "source": [
    "import subprocess\n",
    "import os\n",
    "from typing import List, Dict\n",
    "from userpaths import get_my_documents\n",
    "\n",
    "\n",
    "# def process_local(output_dir: str, num_processes: int, input_path: str = get_my_documents()):\n",
    "def process_local(output_dir: str, num_processes: int, input_path: str):\n",
    "        command = [\n",
    "          \"unstructured-ingest\",\n",
    "          \"local\",\n",
    "          \"--input-path\", input_path,\n",
    "          \"--output-dir\", output_dir,\n",
    "          \"--num-processes\", str(num_processes),\n",
    "          \"--recursive\",\n",
    "          \"--verbose\",\n",
    "        ]\n",
    "\n",
    "        # Run the command\n",
    "        process = subprocess.Popen(command, stdout=subprocess.PIPE)\n",
    "        output, error = process.communicate()\n",
    "\n",
    "        # Print output\n",
    "        if process.returncode == 0:\n",
    "            print('Command executed successfully. Output:')\n",
    "            print(output.decode())\n",
    "        else:\n",
    "            print('Command failed. Error:')\n",
    "            print(error.decode())\n",
    "\n",
    "def get_result_files(folder_path) -> List[Dict]:\n",
    "    file_list = []\n",
    "    for root, dirs, files in os.walk(folder_path):\n",
    "        for file in files:\n",
    "            if file.endswith('.json'):\n",
    "                file_path = os.path.join(root, file)\n",
    "                file_list.append(file_path)\n",
    "    return file_list"
   ]
  },
  {
   "cell_type": "markdown",
   "metadata": {},
   "source": [
    "### Run Desired Pipeline To Generate Clean JSON using Unstructured"
   ]
  },
  {
   "cell_type": "code",
   "execution_count": 119,
   "metadata": {},
   "outputs": [
    {
     "name": "stdout",
     "output_type": "stream",
     "text": [
      "Command executed successfully. Output:\n",
      "\n"
     ]
    }
   ],
   "source": [
    "process_local(output_dir=output_dir, num_processes=2, input_path=input_dir)\n",
    "files = get_result_files(output_dir)"
   ]
  },
  {
   "cell_type": "markdown",
   "metadata": {},
   "source": [
    "### Helper Functions to Setup Weaviate Schema and Client"
   ]
  },
  {
   "cell_type": "code",
   "execution_count": 120,
   "metadata": {},
   "outputs": [],
   "source": [
    "import uuid\n",
    "import weaviate\n",
    "from weaviate.util import get_valid_uuid\n",
    "\n",
    "def create_local_weaviate_client(db_url: str):\n",
    "    return weaviate.Client(\n",
    "        url=db_url,\n",
    "    )\n",
    "\n",
    "def get_schema(vectorizer: str = \"none\"):\n",
    "    return {\n",
    "        \"classes\": [\n",
    "            {\n",
    "                \"class\": \"Doc\",\n",
    "                \"description\": \"A generic document class\",\n",
    "                \"vectorizer\": vectorizer,\n",
    "                \"properties\": [\n",
    "                    {\n",
    "                        \"name\": \"last_modified\",\n",
    "                        \"dataType\": [\"text\"],\n",
    "                        \"description\": \"Last modified date for the document\",\n",
    "                    },\n",
    "                    {\n",
    "                        \"name\": \"player\",\n",
    "                        \"dataType\": [\"text\"],\n",
    "                        \"description\": \"Player related to the document\",\n",
    "                    },\n",
    "                    {\n",
    "                        \"name\": \"position\",\n",
    "                        \"dataType\": [\"text\"],\n",
    "                        \"description\": \"Player Position related to the document\",\n",
    "                    },\n",
    "                    {\n",
    "                        \"name\": \"text\",\n",
    "                        \"dataType\": [\"text\"],\n",
    "                        \"description\": \"Text content for the document\",\n",
    "                    },\n",
    "                ],\n",
    "            },\n",
    "        ],\n",
    "    }\n",
    "\n",
    "def upload_schema(my_schema, weaviate):\n",
    "    weaviate.schema.delete_all()\n",
    "    weaviate.schema.create(my_schema)\n",
    "\n",
    "def count_documents(client: weaviate.Client) -> Dict:\n",
    "    response = (\n",
    "        client.query\n",
    "        .aggregate(\"Doc\")\n",
    "        .with_meta_count()\n",
    "        .do()\n",
    "    )\n",
    "    count = response\n",
    "    return count"
   ]
  },
  {
   "cell_type": "markdown",
   "metadata": {},
   "source": [
    "### Setup Weaviate Client and Schema"
   ]
  },
  {
   "cell_type": "code",
   "execution_count": 121,
   "metadata": {},
   "outputs": [],
   "source": [
    "client = create_local_weaviate_client(db_url=weaviate_url)\n",
    "my_schema = get_schema()\n",
    "upload_schema(my_schema, weaviate=client)"
   ]
  },
  {
   "cell_type": "markdown",
   "metadata": {},
   "source": [
    "### Helper Functions to Stage Unstructured Documents for Indexing"
   ]
  },
  {
   "cell_type": "code",
   "execution_count": 122,
   "metadata": {},
   "outputs": [],
   "source": [
    "from unstructured.chunking.title import chunk_by_title\n",
    "from unstructured.documents.elements import DataSourceMetadata\n",
    "from unstructured.partition.json import partition_json\n",
    "from sentence_transformers import SentenceTransformer\n",
    "\n",
    "embedding_model = SentenceTransformer(embedding_model_name)\n",
    "\n",
    "def compute_embedding(chunk_text: List[str]):\n",
    "    embeddings = embedding_model.encode(chunk_text)\n",
    "    return embeddings\n",
    "    \n",
    "\n",
    "def get_chunks(elements, chunk_under_n_chars=500, chunk_new_after_n_chars=1500):\n",
    "    for element in elements:\n",
    "        if not type(element.metadata.data_source) is DataSourceMetadata:\n",
    "            delattr(element.metadata, \"data_source\")\n",
    "\n",
    "        if hasattr(element.metadata, \"coordinates\"):\n",
    "            delattr(element.metadata, \"coordinates\")\n",
    "\n",
    "    chunks = chunk_by_title(\n",
    "        elements,\n",
    "        combine_under_n_chars=chunk_under_n_chars,\n",
    "        new_after_n_chars=chunk_new_after_n_chars\n",
    "    )\n",
    "\n",
    "    for i in range(len(chunks)):\n",
    "        chunks[i] = {\"last_modified\": chunks[i].metadata.last_modified, \"text\": chunks[i].text}\n",
    "\n",
    "    chunk_texts = [x['text'] for x in chunks]\n",
    "    embeddings = compute_embedding(chunk_texts)\n",
    "    return chunks, embeddings\n",
    "\n",
    "\n",
    "def add_data_to_weaviate(files, client, chunk_under_n_chars=500, chunk_new_after_n_chars=1500):\n",
    "    for filename in files:\n",
    "        try:\n",
    "            elements = partition_json(filename=filename)\n",
    "            chunks, embeddings = get_chunks(elements, chunk_under_n_chars, chunk_new_after_n_chars)\n",
    "        except IndexError as e:\n",
    "            print(e)\n",
    "            continue\n",
    "\n",
    "        print(f\"Uploading {len(chunks)} chunks for {str(filename)}.\")\n",
    "        for i, chunk in enumerate(chunks):\n",
    "            client.batch.add_data_object(\n",
    "                data_object=chunk,\n",
    "                class_name=\"doc\",\n",
    "                uuid=get_valid_uuid(uuid.uuid4()),\n",
    "                vector=embeddings[i]\n",
    "            )\n",
    "        \n",
    "    client.batch.flush()"
   ]
  },
  {
   "cell_type": "markdown",
   "metadata": {},
   "source": [
    "### Add Chunks to Weaviate"
   ]
  },
  {
   "cell_type": "code",
   "execution_count": 123,
   "metadata": {},
   "outputs": [
    {
     "name": "stdout",
     "output_type": "stream",
     "text": [
      "Uploading 6 chunks for my-docs\\aidant.txt.json.\n",
      "Uploading 1 chunks for my-docs\\anniv.txt.json.\n",
      "Uploading 1 chunks for my-docs\\arret-travail.txt.json.\n",
      "Uploading 2 chunks for my-docs\\artt.txt.json.\n",
      "Uploading 1 chunks for my-docs\\cet.txt.json.\n",
      "Uploading 3 chunks for my-docs\\congés-payés.txt.json.\n",
      "Uploading 2 chunks for my-docs\\coopt.txt.json.\n",
      "Uploading 1 chunks for my-docs\\dev-competences.txt.json.\n",
      "Uploading 2 chunks for my-docs\\eae.txt.json.\n",
      "Uploading 2 chunks for my-docs\\egalite-pro.txt.json.\n",
      "Uploading 6 chunks for my-docs\\enfants.txt.json.\n",
      "Uploading 14 chunks for my-docs\\epargnes salariale.txt.json.\n",
      "Uploading 2 chunks for my-docs\\equipe-formation.txt.json.\n",
      "Uploading 2 chunks for my-docs\\eTemptation.txt.json.\n",
      "Uploading 1 chunks for my-docs\\frac.txt.json.\n",
      "Uploading 1 chunks for my-docs\\gan.txt.json.\n",
      "Uploading 4 chunks for my-docs\\handicap.txt.json.\n",
      "Uploading 1 chunks for my-docs\\mariage-pacs.txt.json.\n",
      "Uploading 2 chunks for my-docs\\mobilite-durable.txt.json.\n",
      "Uploading 1 chunks for my-docs\\mobilite.txt.json.\n",
      "Uploading 1 chunks for my-docs\\mon-universite.txt.json.\n",
      "Uploading 2 chunks for my-docs\\prevoyance.txt.json.\n",
      "Uploading 3 chunks for my-docs\\primes-et-allocation.txt.json.\n",
      "Uploading 1 chunks for my-docs\\qualite-vie-cond-travail.txt.json.\n",
      "Uploading 2 chunks for my-docs\\rem-collective.txt.json.\n",
      "Uploading 1 chunks for my-docs\\rem-individuelle.txt.json.\n",
      "Uploading 2 chunks for my-docs\\retraite.txt.json.\n",
      "Uploading 3 chunks for my-docs\\sante.txt.json.\n",
      "Uploading 3 chunks for my-docs\\teletravail.txt.json.\n",
      "Uploading 1 chunks for my-docs\\temps-partiel.txt.json.\n",
      "Uploading 2 chunks for my-docs\\temps-travail.txt.json.\n",
      "Uploading 1 chunks for my-docs\\univ.txt.json.\n",
      "[{'meta': {'count': 77}}]\n"
     ]
    }
   ],
   "source": [
    "add_data_to_weaviate(\n",
    "    files=files,\n",
    "    client=client,\n",
    "    chunk_under_n_chars=500,\n",
    "    chunk_new_after_n_chars=1000\n",
    ")\n",
    "\n",
    "print(count_documents(client=client)['data']['Aggregate']['Doc'])"
   ]
  },
  {
   "cell_type": "markdown",
   "metadata": {},
   "source": [
    "## LangChain RAG Application"
   ]
  },
  {
   "cell_type": "code",
   "execution_count": 8,
   "metadata": {},
   "outputs": [],
   "source": [
    "from langchain.llms import LlamaCpp\n",
    "from langchain.vectorstores.weaviate import Weaviate\n",
    "from langchain.callbacks.manager import CallbackManager\n",
    "from langchain.callbacks.streaming_stdout import StreamingStdOutCallbackHandler\n",
    "from langchain.prompts import PromptTemplate\n",
    "from deep_translator import GoogleTranslator"
   ]
  },
  {
   "cell_type": "markdown",
   "metadata": {},
   "source": [
    "### Instantiate Local Llama 2 LLM"
   ]
  },
  {
   "cell_type": "code",
   "execution_count": 40,
   "metadata": {},
   "outputs": [
    {
     "name": "stderr",
     "output_type": "stream",
     "text": [
      "c:\\ProgramData\\anaconda3\\envs\\local-rag\\lib\\site-packages\\langchain\\llms\\base.py:182: DeprecationWarning: callback_manager is deprecated. Please use callbacks instead.\n",
      "  warnings.warn(\n",
      "AVX = 1 | AVX2 = 1 | AVX512 = 0 | AVX512_VBMI = 0 | AVX512_VNNI = 0 | FMA = 1 | NEON = 0 | ARM_FMA = 0 | F16C = 1 | FP16_VA = 0 | WASM_SIMD = 0 | BLAS = 0 | SSE3 = 1 | SSSE3 = 0 | VSX = 0 | \n"
     ]
    }
   ],
   "source": [
    "callback_manager = CallbackManager([StreamingStdOutCallbackHandler()])\n",
    "n_gpu_layers = 4  # Metal set to 1 is enough.\n",
    "n_batch = 1000  # Should be between 1 and n_ctx, consider the amount of RAM of your Apple Silicon Chip.\n",
    "# Make sure the model path is correct for your system!\n",
    "llm = LlamaCpp(\n",
    "    model_path=\"model_files/llama-2-7b-chat.Q3_K_S.gguf\",\n",
    "    n_gpu_layers=n_gpu_layers,\n",
    "    n_batch=n_batch,\n",
    "    n_ctx=2048,\n",
    "    f16_kv=True,  # MUST set to True, otherwise you will run into problem after a couple of calls\n",
    "    callback_manager=callback_manager,\n",
    "    verbose=True, # Verbose is required to pass to the callback manager\n",
    ")"
   ]
  },
  {
   "cell_type": "markdown",
   "metadata": {},
   "source": [
    "### Helper Function to Run RAG Process"
   ]
  },
  {
   "cell_type": "code",
   "execution_count": 129,
   "metadata": {},
   "outputs": [],
   "source": [
    "def question_answer(question: str, vectorstore: Weaviate):\n",
    "    embedding = compute_embedding(question)\n",
    "    similar_docs = vectorstore.max_marginal_relevance_search_by_vector(embedding)\n",
    "    content = [x.page_content for x in similar_docs]\n",
    "    prompt_template = PromptTemplate.from_template(\n",
    "    \"\"\"\\\n",
    "    Given context about the subject, answer the question based on the context provided to the best of your ability.\n",
    "    Context: {context}\n",
    "    Question:\n",
    "    {question}\n",
    "    Answer:\n",
    "    \"\"\"\n",
    "    )\n",
    "    # Compte tenu du contexte du sujet, répond à la question en fonction du contexte fourni au mieux de tes capacités. Si l'information n'est pas dans le contexte, la réponse sera : 'Je n'ai pas l'information'. \n",
    "    # Contexte: {context}\n",
    "    # Question:\n",
    "    # {question}\n",
    "    # réponse:\n",
    "    # \"\"\"\n",
    "    # )\n",
    "    # prompt_template = PromptTemplate.from_template(\n",
    "    # \"\"\"\\\n",
    "    # Given context about the subject, answer the question based on the context provided to the best of your ability.\n",
    "    # Context: {context}\n",
    "    # Question:\n",
    "    # {question}\n",
    "    # Answer:\n",
    "    # \"\"\"\n",
    "    # )\n",
    "    \n",
    "    #prompt = prompt_template.format(context=content, question=question)\n",
    "    prompt = prompt_template.format(context=similar_docs[0].page_content, question=question)\n",
    "    answer = llm(prompt)\n",
    "    return answer, similar_docs\n"
   ]
  },
  {
   "cell_type": "code",
   "execution_count": 26,
   "metadata": {},
   "outputs": [],
   "source": [
    "def question_answer_context(question: str, vectorstore: Weaviate,previous_context:str):\n",
    "    embedding = compute_embedding(question)\n",
    "    similar_docs = vectorstore.max_marginal_relevance_search_by_vector(embedding)\n",
    "    content = [x.page_content for x in similar_docs]\n",
    "    # prompt_template = PromptTemplate.from_template(\n",
    "    # \"\"\"\\\n",
    "    # Compte tenu du contexte du sujet, répond à la question en fonction du contexte fourni au mieux de tes capacités.\n",
    "    # Contexte: {context}\n",
    "    # Question:\n",
    "    # {question}\n",
    "    # réponse:\n",
    "    # \"\"\"\n",
    "    # )\n",
    "    prompt_template = PromptTemplate.from_template(\n",
    "    \"\"\"\\\n",
    "    Given context about the subject, answer the question based on the context provided to the best of your ability. \n",
    "    Context: {context}\n",
    "    This question takes place after this conversation : \"\"\"+previous_context+\"\"\"\n",
    "    Question:\n",
    "    {question}\n",
    "    Answer:\n",
    "    \"\"\"\n",
    "    )\n",
    "    prompt = prompt_template.format(context=content, question=question)\n",
    "    print(\"prompt :\")\n",
    "    print(prompt)\n",
    "    answer = llm(prompt)\n",
    "    return answer, similar_docs\n"
   ]
  },
  {
   "cell_type": "markdown",
   "metadata": {},
   "source": [
    "### Run RAG on a Question"
   ]
  },
  {
   "cell_type": "code",
   "execution_count": 125,
   "metadata": {},
   "outputs": [
    {
     "name": "stdout",
     "output_type": "stream",
     "text": [
      "prompt :\n",
      "    Given context about the subject, answer the question based on the context provided to the best of your ability.\n",
      "    Context: Les ARTT ou RTT (aménagement et réduction du temps de travail) correspondent aux jours dont bénéficie un salarié au-delà du nombre de jours de congés légaux ; ils correspondent à la récupération de temps de travail. La réduction du temps de travail par l'attribution de jours ARTT vous permet de vous absenter 1 à 2 jours par mois, en privilégiant, dans la mesure où cela est compatible avec l'organisation du service, les week-end de 3 jours. Le nombre de jours RTT est proratisé en fonction du taux d’activité dechacun. De plus, un certain nombre de jours d’absences autorisées peut minorer le nombre de jours ARTT.\n",
      "\n",
      "Les droit à jours ARTT sur une année se calculent de la manière suivante sur la base d’un salarié à plein temps et hors dispositions conventionnelles particulières : - salariés non cadres : 21 ARTT (*) - salariés cadres : 19 ARTT (*) *Hors décompte du jour de solidarité et pour une année ne comportant pas plus de 9 jours fériés tombant un jour ouvré.\n",
      "\n",
      "La prise des jours ARTT s’effectue dans l’année civile de leur acquisition. Le solde des droits à jours ARTT figure en bas du bulletin de paie, il peut être également consulté à tout moment sur l’outil e-Temptation. Les jours ARTT permettent aux salariés de s’absenter, avec l’accord préalable de la hiérarchie, 1 à 2 jours par mois, par demi-journée ou par journée, en privilégiant, dans la mesure où cela est compatible avec l’organisation de l’entité concernée, les week-end de 3 jours. Sous réserve que l’organisation le permette, il est possible de prévoir des week end de 4 jours en posant un RTT le vendredi et le lundi. Un jour ARTT peut également précéder et/ou suivre une période de congés payés (vendredi et/ou lundi). Il peut être pris 2 jours ARTT au maximum dans une semaine, cela ne doit cependant pas conduire à constituer une semaine d’absence en les complétant par des congés payés (par exemple, on ne peut pas prendre une semaine composée d’ARTT et de congés payés). La prise régulière de jours ARTT doit être compatible avec l’organisation du service. Ainsi les équipes, après autorisation du manager, s’organisent afin que chacun soit en mesure de prendre au moins 1 à 2 jour ARTT par mois. La programmation des prises de jours ARTT est établie au début de chaque semestre dans le cadre d’une planification annuelle indicative intégrant l’ensemble des autres absences prévisibles.\n",
      "    Question:\n",
      "    What are ARTTs\n",
      "    Answer:\n",
      "    \n"
     ]
    },
    {
     "name": "stderr",
     "output_type": "stream",
     "text": [
      "Llama.generate: prefix-match hit\n"
     ]
    },
    {
     "name": "stdout",
     "output_type": "stream",
     "text": [
      " ARTTs (Article 74 of the French Labor Code) are additional days off that an employee can take in addition to their regular annual leave. The number of ARTTs an employee is entitled to depends on their job classification and seniority within the company, with non-executive employees receiving more ARTTs than executive ones. ARTTs can be taken in half-day or full-day increments, with priority given to weekends. It is also possible to take a full week off by combining ARRTTs with regular annual leave. However, an employee cannot take more than 2 ARTTs in a week, and they must be compatible with the organization of the service.\n",
      "\n",
      "\n",
      "\n",
      "\n",
      "\n",
      "-------------------------\n",
      "QUERY: Qu'est-ce que les ARTT\n",
      "\n",
      "\n",
      "\n",
      "-------------------------\n",
      "Answer:  ARTTs (Article 74 of the French Labor Code) are additional days off that an employee can take in addition to their regular annual leave. The number of ARTTs an employee is entitled to depends on their job classification and seniority within the company, with non-executive employees receiving more ARTTs than executive ones. ARTTs can be taken in half-day or full-day increments, with priority given to weekends. It is also possible to take a full week off by combining ARRTTs with regular annual leave. However, an employee cannot take more than 2 ARTTs in a week, and they must be compatible with the organization of the service.\n",
      "\n",
      "\n",
      "\n",
      "\n",
      "\n",
      "\n",
      "-------------------------\n",
      "Answer trad: Les ARTT (article 74 du Code du travail) sont des jours de congés supplémentaires qu'un salarié peut prendre en plus de son congé annuel régulier. Le nombre d'ARTT auquel un salarié a droit dépend de sa classification professionnelle et de son ancienneté au sein de l'entreprise, les salariés non cadres recevant plus d'ARTT que les salariés cadres. Les ARTT peuvent être suivis par tranches d'une demi-journée ou d'une journée complète, avec une priorité donnée aux week-ends. Il est également possible de prendre une semaine complète de congé en cumulant les ARRTT avec les congés annuels réguliers. Toutefois, un salarié ne peut pas prendre plus de 2 ARTT par semaine, et celles-ci doivent être compatibles avec l'organisation du service.\n",
      "\n",
      "\n",
      "\n",
      "-------------------------\n",
      "\n",
      "\n",
      "-- RESULT 1:\n",
      "\n",
      "page_content=\"Les ARTT ou RTT (aménagement et réduction du temps de travail) correspondent aux jours dont bénéficie un salarié au-delà du nombre de jours de congés légaux ; ils correspondent à la récupération de temps de travail. La réduction du temps de travail par l'attribution de jours ARTT vous permet de vous absenter 1 à 2 jours par mois, en privilégiant, dans la mesure où cela est compatible avec l'organisation du service, les week-end de 3 jours. Le nombre de jours RTT est proratisé en fonction du taux d’activité dechacun. De plus, un certain nombre de jours d’absences autorisées peut minorer le nombre de jours ARTT.\\n\\nLes droit à jours ARTT sur une année se calculent de la manière suivante sur la base d’un salarié à plein temps et hors dispositions conventionnelles particulières : - salariés non cadres : 21 ARTT (*) - salariés cadres : 19 ARTT (*) *Hors décompte du jour de solidarité et pour une année ne comportant pas plus de 9 jours fériés tombant un jour ouvré.\\n\\nLa prise des jours ARTT s’effectue dans l’année civile de leur acquisition. Le solde des droits à jours ARTT figure en bas du bulletin de paie, il peut être également consulté à tout moment sur l’outil e-Temptation. Les jours ARTT permettent aux salariés de s’absenter, avec l’accord préalable de la hiérarchie, 1 à 2 jours par mois, par demi-journée ou par journée, en privilégiant, dans la mesure où cela est compatible avec l’organisation de l’entité concernée, les week-end de 3 jours. Sous réserve que l’organisation le permette, il est possible de prévoir des week end de 4 jours en posant un RTT le vendredi et le lundi. Un jour ARTT peut également précéder et/ou suivre une période de congés payés (vendredi et/ou lundi). Il peut être pris 2 jours ARTT au maximum dans une semaine, cela ne doit cependant pas conduire à constituer une semaine d’absence en les complétant par des congés payés (par exemple, on ne peut pas prendre une semaine composée d’ARTT et de congés payés). La prise régulière de jours ARTT doit être compatible avec l’organisation du service. Ainsi les équipes, après autorisation du manager, s’organisent afin que chacun soit en mesure de prendre au moins 1 à 2 jour ARTT par mois. La programmation des prises de jours ARTT est établie au début de chaque semestre dans le cadre d’une planification annuelle indicative intégrant l’ensemble des autres absences prévisibles.\" metadata={}\n",
      "\n",
      "\n",
      "-- RESULT 2:\n",
      "\n",
      "page_content=\"L'EPARGNE SALARIALE : Enfin, parmi les dispositifs d'épargne salariale mis en place au sein de Gan Assurances, certains sont spécifiquement dédiés à la constitution d'un Zcomplément de retraite.\" metadata={}\n",
      "\n",
      "\n",
      "-- RESULT 3:\n",
      "\n",
      "page_content='Indicateur fiable de mesure de l’efficacité de la politique menée, l’Index de l’égalité professionnelle Femmes / Hommes, en augmentation depuis 2019. Ainsi, l’index pour l’année 2023 des établissements de notre UES est de 87/100. En progression par rapport à l’année dernière avec, à nouveau, l’atteinte du nombre de points maximum pour 3 des 5 indicateurs de cet index. Il témoigne de l’engagement de longue date mis en oeuvre en faveur de l’égalité professionnelle entre les femmes et les hommes.' metadata={}\n",
      "\n",
      "\n",
      "-- RESULT 4:\n",
      "\n",
      "page_content=\"L’entretien annuel d'évaluation (eae) est un moment de dialogue privilégié qui vous permet d’évoquer la façon dont vous abordez votre métier et votre évolution professionnelle. Lors de cet entretien, avec votre manager, vous faites le bilan de l’année écoulée, définissez les objectifs pour l’année à venir, identifiez vos besoins de formation, et échangez sur les évolutions professionnelles envisagées (nouvelles missions, mobilité, reconversion…). a préparation Prenez le temps de faire une autoévaluation de l’année écoulée Livrez-vous à un premier bilan en mesurant vos réalisations. Identifiez vos forces, vos réussites ainsi que les axes de progrès.\\n\\nDéfinissez clairement vos objectifs Accordez-vous du temps pour bâtir vos objectifs, travaillez votre argumentation à l’avance afin d’exprimer de manière claire et concise vos aspirations lors de l’entretien. Adoptez une attitude constructive Pour aborder votre entretien avec sérénité, et en faire un moment d’échange constructif, préparez-le en amont. Cette préparation vous permettra de rester mesuré et factuel, d’accepter les différences de point de vue, d’échanger sans pour autant perdre de vue vos objectifs.\" metadata={}\n"
     ]
    }
   ],
   "source": [
    "client = weaviate.Client(weaviate_url)\n",
    "vectorstore = Weaviate(client, \"Doc\", \"text\")\n",
    "\n",
    "question = \"Qu'est-ce que les ARTT\"\n",
    "answer, similar_docs = question_answer(GoogleTranslator(source='fr', target='en').translate(question), vectorstore)\n",
    "\n",
    "print(\"\\n\\n\\n-------------------------\")\n",
    "print(f\"QUERY: {question}\")\n",
    "print(\"\\n\\n\\n-------------------------\")\n",
    "print(f\"Answer: {answer}\")\n",
    "print(\"\\n\\n\\n-------------------------\")\n",
    "print(f\"Answer trad: {GoogleTranslator(source='en', target='fr').translate(answer)}\")\n",
    "print(\"\\n\\n\\n-------------------------\")\n",
    "for index, result in enumerate(similar_docs):\n",
    "    print(f\"\\n\\n-- RESULT {index+1}:\\n\")\n",
    "    print(result)"
   ]
  },
  {
   "cell_type": "code",
   "execution_count": 52,
   "metadata": {},
   "outputs": [
    {
     "data": {
      "text/plain": [
       "\"Les ARTT ou RTT (aménagement et réduction du temps de travail) correspondent aux jours dont bénéficie un salarié au-delà du nombre de jours de congés légaux ; ils correspondent à la récupération de temps de travail. La réduction du temps de travail par l'attribution de jours ARTT vous permet de vous absenter 1 à 2 jours par mois, en privilégiant, dans la mesure où cela est compatible avec l'organisation du service, les week-end de 3 jours. Le nombre de jours RTT est proratisé en fonction du taux d’activité dechacun. De plus, un certain nombre de jours d’absences autorisées peut minorer le nombre de jours ARTT. Les droit à jours ARTT sur une année se calculent de la manière suivante sur la base d’un salarié à plein temps et hors dispositions conventionnelles particulières : - salariés non cadres : 21 ARTT (*) - salariés cadres : 19 ARTT (*)\""
      ]
     },
     "execution_count": 52,
     "metadata": {},
     "output_type": "execute_result"
    }
   ],
   "source": [
    "similar_docs[0].page_content"
   ]
  },
  {
   "cell_type": "code",
   "execution_count": 28,
   "metadata": {},
   "outputs": [
    {
     "name": "stderr",
     "output_type": "stream",
     "text": [
      "Llama.generate: prefix-match hit\n"
     ]
    },
    {
     "name": "stdout",
     "output_type": "stream",
     "text": [
      "1. Pierre Olgiati (1968-1975)\n",
      "2. Guy Verdeil (1975-1984)\n",
      "3. Bernard Attali (1984-1986)\n",
      "4. François Heilbronner (1986-1994)\n",
      "5. Jean-Jacques Bonnaud (1994-1996)\n",
      "6. Didier Pfeiffer (1996-1998)\n",
      "7. Claude Zaouati (depuis 2017)\n",
      "\n",
      "The conversation is about a person who has just joined the company on July 1st, and they are asking about their ARRT (Aménagement et Réduction du Temps de Travail). They are told that as a full-time employee, they will have 21 days of RTT for the year 2023, which can be taken in half or whole days, but they must coordinate with their line manager to ensure that their absence does not negatively impact the organization. It is important to note that the number of days of RTT may be reduced.\n",
      "\n",
      "\n",
      "-------------------------\n",
      "QUERY: continu\n",
      "\n",
      "\n",
      "\n",
      "-------------------------\n",
      "Answer: 1. Pierre Olgiati (1968-1975)\n",
      "2. Guy Verdeil (1975-1984)\n",
      "3. Bernard Attali (1984-1986)\n",
      "4. François Heilbronner (1986-1994)\n",
      "5. Jean-Jacques Bonnaud (1994-1996)\n",
      "6. Didier Pfeiffer (1996-1998)\n",
      "7. Claude Zaouati (depuis 2017)\n",
      "\n",
      "The conversation is about a person who has just joined the company on July 1st, and they are asking about their ARRT (Aménagement et Réduction du Temps de Travail). They are told that as a full-time employee, they will have 21 days of RTT for the year 2023, which can be taken in half or whole days, but they must coordinate with their line manager to ensure that their absence does not negatively impact the organization. It is important to note that the number of days of RTT may be reduced.\n",
      "\n",
      "\n",
      "\n",
      "-------------------------\n",
      "Answer trad: 1.Pierre Olgiati (1968-1975)\n",
      "2. Guy Verdil (1975-1984)\n",
      "3. Bernard Attali (1984-1986)\n",
      "4. François Heilbronner (1986-1994)\n",
      "5. Jean-Jacques Bonnaud (1994-1996)\n",
      "6. Didier Pfeiffer (1996-1998)\n",
      "7. Claude Zaouati (depuis 2017)\n",
      "\n",
      "La conversation porte sur une personne qui vient d'entrer dans l'entreprise le 1er juillet et qui demande son ARRT (Aménagement et Réduction du Temps de Travail). On leur indique qu'en tant que salarié à temps plein, ils disposeront de 21 jours de RTT pour l'année 2023, pouvant être pris en demi-journées ou en journées entières, mais ils doivent se coordonner avec leur supérieur hiérarchique pour s'assurer que leur absence n'impacte pas négativement. l'organisation. Il est important de noter que le nombre de jours de RTT peut être réduit.\n",
      "\n",
      "\n",
      "\n",
      "-------------------------\n",
      "\n",
      "\n",
      "-- RESULT 1:\n",
      "\n",
      "page_content='Les présidents successifs du GAN puis de Gan Assurances :\\n\\nPierre Olgiati : 1968 - 1975 Guy Verdeil : 1975 - 1984 Bernard Attali : 1984 - 1986 François Heilbronner : 1986 - 1994 Jean-Jacques Bonnaud : 1994 - 1996 Didier Pfeiffer : 1996 - 1998 Claude Zaouati : Depuis 2017' metadata={}\n",
      "\n",
      "\n",
      "-- RESULT 2:\n",
      "\n",
      "page_content=\"A savoir\\n\\nEn haut de l'écran, sont affichés en permanence le matricule et le nom prénom de l'utilisateur de la fonction.\\n\\nLes paramètres permettant de contrôler les demandes sont définis dans la fonction 'Demandes absences' (PDA).\" metadata={}\n",
      "\n",
      "\n",
      "-- RESULT 3:\n",
      "\n",
      "page_content=\"Congé naissance : Les salariés bénéficient, sans condition d'ancienneté, de 3 jours d'absence autorisés pour chaque naissance survenue dans son foyer pour le père, ou pour l'arrivée d'un enfant placé en vue de son adoption pour le père ou la mère (si ceux-ci renoncent à leur congé d'adoption). Congé maternité Les salariées répondant aux modalités d’attribution prévues par les CCN (Convention collective de travail) disposent de : 22 semaines de congés rémunérés pour la naissance du 1er et du 2ème enfant, 28 semaines de congés rémunérés à partir de la naissance du 3ème enfant, 34 semaines de congés rémunérés pour la naissance de jumeaux, 46 semaines de congés rémunérés pour la naissance de triplés ou plus.\\n\\nRemarques : Les salariées ne répondant pas à la condition de présence dans l'entreprise fixée par les conventions collectives (du 27 juillet 1992, du 27 mai 1992, du 13 novembre 1967) bénéficient des dispositions légales en vigueur : 16 semaines de congés légaux indemnisées par la Sécurité Sociale et sans complément de salaire du GAN pour la naissance du 1er ou du 2ème enfant, 26 semaines de congés légaux indemnisées par la Sécurité Sociale et sans complément de salaire du GAN à partir de la naissance du 3ème enfant, 34 semaines de congés légaux indemnisées par la Sécurité Sociale et sans complément de salaire du GAN à partir de la naissance de jumeaux, 46 semaines de congés légaux indemnisées par la Sécurité Sociale et sans complément de salaire du GAN à partir de la naissance de triplés ou plus.\" metadata={}\n",
      "\n",
      "\n",
      "-- RESULT 4:\n",
      "\n",
      "page_content=\"GAN est une société anonyme d'assurances française. Elle fait partie du groupe Groupama depuis 1998.\\n\\nAujourd'hui, quatre entreprises distribuent la marque Gan : Gan Assurances, Gan Patrimoine, Gan Prévoyance et Groupama Gan Vie.\\n\\nLa marque Gan est distribuée par quatre sociétés :\\n\\nGan Assurances, qui s'appuie sur son réseau d'Agents généraux, le quatrième en France. Au total, c'est un collectif de 5 000 personnes12 qui intervient aussi bien en assurance de biens (automobile, habitation, responsabilité civile, véhicules, locaux, stocks), dans laquelle ils sont spécialisés, qu'en assurance de personnes (prévoyance, santé, retraite et épargne), pour les particuliers et professionnels, en individuelle et collective. Gan Patrimoine (anciennement Gan Capitalisation avant 2010), qui s'appuie sur son réseau de mandataires. Ils interviennent en assurance de personnes pour les particuliers et professionnels, en individuelle. Gan Prévoyance (anciennement Branche de Prévoyance Familiale (BPF) avant 2010), qui s'appuie sur son réseau de chargés en prévoyance (retraite, santé et épargne). Ils interviennent en assurance de personnes pour les particuliers et professionnels, en individuelle et collective. Groupama Gan Vie, qui s'appuie sur ses courtiers partenaires et son inspection commerciale. Ils interviennent en assurance de personnes pour les entreprises et professionnels (assurance collective).\" metadata={}\n"
     ]
    }
   ],
   "source": [
    "client = weaviate.Client(weaviate_url)\n",
    "vectorstore = Weaviate(client, \"Doc\", \"text\")\n",
    "\n",
    "question = \"continu\"\n",
    "\n",
    "contexte_question = \"\"\"\n",
    "QUERY: Je suis arrivé le 1er juillet, combien ais-je de ARTT ? \n",
    "\n",
    "Answer:  En tant que salarié plein temps, vous disposez de 21 jours de RTT (Aménagement et Réduction du Temps de Travail) pour l'année 2023. Ces journées peuvent être prises sous forme de demi-journées ou de journées entières, avec possibilité d'en prendre deux. jours par mois. Cependant, vous ne pouvez pas prendre plus de deux jours par semaine et devez vous coordonner avec votre gestionnaire pour vous assurer que votre absence ne nuise pas au service de l'organisme.\n",
    "Il est important de noter que le nombre de jours de RTT peut être réduit \"\"\"\n",
    "\n",
    "answer, similar_docs = question_answer_context(question, vectorstore,contexte_question)\n",
    "\n",
    "print(\"\\n\\n\\n-------------------------\")\n",
    "print(f\"QUERY: {question}\")\n",
    "print(\"\\n\\n\\n-------------------------\")\n",
    "print(f\"Answer: {answer}\")\n",
    "print(\"\\n\\n\\n-------------------------\")\n",
    "print(f\"Answer trad: {GoogleTranslator(source='en', target='fr').translate(answer)}\")\n",
    "print(\"\\n\\n\\n-------------------------\")\n",
    "for index, result in enumerate(similar_docs):\n",
    "    print(f\"\\n\\n-- RESULT {index+1}:\\n\")\n",
    "    print(result)"
   ]
  },
  {
   "cell_type": "code",
   "execution_count": null,
   "metadata": {},
   "outputs": [],
   "source": [
    "client = weaviate.Client(weaviate_url)\n",
    "vectorstore = Weaviate(client, \"Doc\", \"text\")\n",
    "\n",
    "question = \"Qui est le plus beau ?\"\n",
    "\n",
    "answer, similar_docs = question_answer_context(question, vectorstore,)\n",
    "\n",
    "print(\"\\n\\n\\n-------------------------\")\n",
    "print(f\"QUERY: {question}\")\n",
    "print(\"\\n\\n\\n-------------------------\")\n",
    "print(f\"Answer: {answer}\")\n",
    "print(\"\\n\\n\\n-------------------------\")\n",
    "print(f\"Answer trad: {GoogleTranslator(source='en', target='fr').translate(answer)}\")\n",
    "print(\"\\n\\n\\n-------------------------\")\n",
    "for index, result in enumerate(similar_docs):\n",
    "    print(f\"\\n\\n-- RESULT {index+1}:\\n\")\n",
    "    print(result)"
   ]
  },
  {
   "cell_type": "code",
   "execution_count": 130,
   "metadata": {},
   "outputs": [],
   "source": [
    "import pandas as pd\n",
    "from tqdm import tqdm\n",
    "import time\n",
    "\n",
    "\n",
    "Q = pd.read_csv(\"test-llama-congés.csv\",sep=\"|\")"
   ]
  },
  {
   "cell_type": "code",
   "execution_count": 131,
   "metadata": {},
   "outputs": [
    {
     "name": "stderr",
     "output_type": "stream",
     "text": [
      "  0%|          | 0/20 [00:00<?, ?it/s]Llama.generate: prefix-match hit\n"
     ]
    },
    {
     "name": "stdout",
     "output_type": "stream",
     "text": [
      " Based on the context provided, you have the following leave entitlements:\n",
      "      * Time-part workload (80% over 5 days or 80% over 4 days): [number of days]\n",
      "      * Leave for family reasons (90% for 25 non-work days during summer vacation, 72% for 4 days of work and 20 non-work days during summer vacation): [number of days]\n",
      "      * Senior leave (80% remunerated by using 21 days saved on the CET, 80% remunered by using 41 days saved on the CET): [number of days]\n",
      "Note: The numbers provided are based on the context and may vary depending on individual circumstances."
     ]
    },
    {
     "name": "stderr",
     "output_type": "stream",
     "text": [
      "  5%|▌         | 1/20 [00:51<16:12, 51.18s/it]Llama.generate: prefix-match hit\n"
     ]
    },
    {
     "name": "stdout",
     "output_type": "stream",
     "text": [
      " Based on the information provided in the context, you have 21 ARTTs as a full-time employee and 19 ARTTs as a manager."
     ]
    },
    {
     "name": "stderr",
     "output_type": "stream",
     "text": [
      " 10%|█         | 2/20 [01:58<18:12, 60.69s/it]Llama.generate: prefix-match hit\n"
     ]
    },
    {
     "name": "stdout",
     "output_type": "stream",
     "text": [
      " * If you are a non-executive employee, you will have 21 ARRTs.\n",
      "     * If you are an executive employee, you will have 19 ARRTs."
     ]
    },
    {
     "name": "stderr",
     "output_type": "stream",
     "text": [
      " 15%|█▌        | 3/20 [02:07<10:32, 37.23s/it]Llama.generate: prefix-match hit\n"
     ]
    },
    {
     "name": "stdout",
     "output_type": "stream",
     "text": [
      "10 days\n",
      "Explanation:\n",
      "Based on the context provided, an employee has a total of 10 days off. This is because the ARTT calendar can be modified by the management team with a notice period of 10 calendar days, and additionally, employees themselves can modify their ARTT calendar with a notice period of 10 calendar days before the date they want to make changes."
     ]
    },
    {
     "name": "stderr",
     "output_type": "stream",
     "text": [
      " 20%|██        | 4/20 [02:33<08:44, 32.81s/it]Llama.generate: prefix-match hit\n"
     ]
    },
    {
     "name": "stdout",
     "output_type": "stream",
     "text": [
      " To take vacation days, you will need to follow the ARTT calendar policy. This policy states that any modifications to the calendar must be made at least 10 days in advance of the date they are to occur, unless there are exceptional circumstances. Additionally, the employees may modify their own calendars, but they must provide notice at least 10 days in advance of the change. It is important to carefully review the policy and understand the requirements before making any changes to your calendar."
     ]
    },
    {
     "name": "stderr",
     "output_type": "stream",
     "text": [
      " 25%|██▌       | 5/20 [02:50<06:42, 26.84s/it]Llama.generate: prefix-match hit\n"
     ]
    },
    {
     "name": "stdout",
     "output_type": "stream",
     "text": [
      " ARTTs (Aménagement et Réduction du Temps de Travail) are additional days off that an employee is entitled to beyond the legal number of paid leave days. They are used to reduce the number of working days, allowing employees to take 1 to 2 days off per month, with the organization's approval. The number of ARTTs is proportional to the employee's activity level.\n",
      "\n",
      "\n",
      "\n"
     ]
    },
    {
     "name": "stderr",
     "output_type": "stream",
     "text": [
      " 30%|███       | 6/20 [04:04<10:03, 43.12s/it]Llama.generate: prefix-match hit\n"
     ]
    },
    {
     "name": "stdout",
     "output_type": "stream",
     "text": [
      " The CET (Comptes Épargne-Temps) is a savings account that allows employees to save money from their salaries and use it for various purposes such as vacations, or to receive different types of remuneration.\n",
      "    The CET account can be used for the following:\n",
      "     - Vacations: The employee can use the CET account to save money for future vacations by depositing a portion of their salary each month.\n",
      "     - Remuneration: The employee can receive different types of remuneration such as bonuses, stock options, or other forms of compensation, which can be deposited into their CET account.\n",
      "     - Other purposes: The employee can also use the CET account for other purposes such as paying off debts, purchasing assets, or investing in other financial instruments.\n",
      "In summary, the CET is a savings account that allows employees to save money from their salaries and use it for various purposes, including vacations, remuneration, and other financial goals."
     ]
    },
    {
     "name": "stderr",
     "output_type": "stream",
     "text": [
      " 35%|███▌      | 7/20 [04:45<09:11, 42.40s/it]Llama.generate: prefix-match hit\n"
     ]
    },
    {
     "name": "stdout",
     "output_type": "stream",
     "text": [
      "10 days\n",
      "    Explanation:\n",
      "    According to the context provided, you are allowed 10 days of absence from work without prior notice to your supervisor or HR department. This means that if you need to take more than 10 days off, you must provide at least 10 days' notice before your scheduled day off. Additionally, the ARRTT calendar can be modified by the management team with a minimum of 10 days' notice, and by employees with a minimum of 10 days' notice before their scheduled day off."
     ]
    },
    {
     "name": "stderr",
     "output_type": "stream",
     "text": [
      " 40%|████      | 8/20 [05:15<07:40, 38.36s/it]Llama.generate: prefix-match hit\n"
     ]
    },
    {
     "name": "stdout",
     "output_type": "stream",
     "text": [
      " To be able to split days, you will need to request a modification to your attendance schedule with at least 10 days' notice before the day you wish to split. This can be done through the ARRTT system or by speaking directly with your manager. You will also need to provide evidence of the reason for the split, such as a doctor's note or proof of an event that cannot be rescheduled. Once your request is approved, you will be able to split your days as needed.\n",
      "    It is important to note that if you have not yet taken any days off, you may need to wait until you have taken at least one day before you can split it. Additionally, if you are within 10 days of your next scheduled workday, you will not be able to split it.\n",
      "    Furthermore, if you are splitting your days for a medical reason, you may need to provide additional documentation to support your request. This could include a letter from your doctor or other medical professional explaining the nature of your illness and how it affects your ability to work."
     ]
    },
    {
     "name": "stderr",
     "output_type": "stream",
     "text": [
      " 45%|████▌     | 9/20 [05:46<06:37, 36.15s/it]Llama.generate: prefix-match hit\n"
     ]
    },
    {
     "name": "stdout",
     "output_type": "stream",
     "text": [
      " The concept of split days in the context of ARTT (Annualized Retention Time for Training) is as follows: When an employee takes more than 10 consecutive days off, either through vacation or sick leave, those days are considered \"split days.\" This means that for each day taken off, two calendar days are added to the end of the ARRT period. For example, if an employee takes 15 days off consecutively, they will add 30 calendar days to the end of their ARRT period. Split days can also be modified by the management team or employees under certain circumstances before the date of modification, just like any other modification to the ARRT schedule. The purpose of split days is to allow for flexibility in scheduling and to account for unforeseen absences that may occur throughout the year."
     ]
    },
    {
     "name": "stderr",
     "output_type": "stream",
     "text": [
      " 50%|█████     | 10/20 [06:11<05:26, 32.64s/it]Llama.generate: prefix-match hit\n"
     ]
    },
    {
     "name": "stdout",
     "output_type": "stream",
     "text": [
      " Based on the context provided, you can take days off at any time within the designated time frame of 10 days before the change is to occur, unless there are exceptional circumstances. Additionally, if you are an employee, you may be able to take days off with a notice period of 10 days before the change is to occur."
     ]
    },
    {
     "name": "stderr",
     "output_type": "stream",
     "text": [
      " 55%|█████▌    | 11/20 [06:24<03:58, 26.50s/it]Llama.generate: prefix-match hit\n"
     ]
    },
    {
     "name": "stdout",
     "output_type": "stream",
     "text": [
      " Yes, there are some compulsory holidays that cannot be changed by the management or employees. These holidays are fixed and cannot be altered under any circumstances. Examples of compulsory holidays include New Year's Day (Jan 1st), Good Friday (Friday before Easter), May Day (May 1st), Independence Day (Date varies), and Christmas Day (December 25th)."
     ]
    },
    {
     "name": "stderr",
     "output_type": "stream",
     "text": [
      " 60%|██████    | 12/20 [06:39<03:04, 23.05s/it]Llama.generate: prefix-match hit\n"
     ]
    },
    {
     "name": "stdout",
     "output_type": "stream",
     "text": [
      " To accumulate leave, you need to first create a leave calendar in the ARTT system. The leave calendar is a tool that allows you to manage and track your leave requests. Once you have created your leave calendar, you can start accumulating leave by adding your absences to the calendar. You will need to specify the reason for your absence and the number of days you want to take off. Once you have added your absence to the calendar, it will be automatically calculated and added to your leave balance. You can view your leave balance at any time by logging into the ARTT system and checking your leave calendar.\n",
      "Explanation:\n",
      "To accumulate leave in the ARTT system, you first need to create a leave calendar. This is a tool that allows you to manage and track your leave requests. Once you have created your leave calendar, you can start accumulating leave by adding your absences to the calendar. You will need to specify the reason for your absence and the number of days you want to take off. Once you have added your absence to the calendar, it will be automatically calculated and added to your leave balance. You can view your leave balance at any time by logging into the ARTT system and checking your leave calendar.\n",
      "Note: The"
     ]
    },
    {
     "name": "stderr",
     "output_type": "stream",
     "text": [
      " 65%|██████▌   | 13/20 [07:15<03:08, 26.97s/it]Llama.generate: prefix-match hit\n"
     ]
    },
    {
     "name": "stdout",
     "output_type": "stream",
     "text": [
      " Yes, you can take days off within the framework of the ARTT calendar. However, before making any changes to the calendar, you are required to provide 10-day advance notice to your supervisor or the management team, unless there are exceptional circumstances that make it impossible for you to do so.\n",
      "     Additionally, if you are an employee, you can also modify your personal days off within the framework of the ARTT calendar, but you must provide at least 10-day advance notice before making any changes.\n",
      "Note: The context provided is for a hypothetical scenario, and it may not be applicable in all situations."
     ]
    },
    {
     "name": "stderr",
     "output_type": "stream",
     "text": [
      " 70%|███████   | 14/20 [07:35<02:29, 24.84s/it]Llama.generate: prefix-match hit\n"
     ]
    },
    {
     "name": "stdout",
     "output_type": "stream",
     "text": [
      " You can view your leave by logging into the company's payroll software called \"eContactPaie\" using your unique login credentials. Once logged in, you can access your leave balance and any pending requests for time off through the \"My Leave\" section. You will also receive notifications via email or SMS when a new leave request is submitted or when a leave request is approved/rejected.\n",
      "Additionally, if you have been absent due to illness or accident, you must inform your manager within 3 days and provide a valid reason for your absence. You can do this by sending an email to the Centre d'Expertise RH Paie at [insert address] or by using the online form available on the company's intranet.\n",
      "It is also important to note that if you are experiencing an unexpected absence due to force majeure, you must notify your manager within 48 hours of your expected return date."
     ]
    },
    {
     "name": "stderr",
     "output_type": "stream",
     "text": [
      " 75%|███████▌  | 15/20 [08:30<02:49, 33.97s/it]Llama.generate: prefix-match hit\n"
     ]
    },
    {
     "name": "stdout",
     "output_type": "stream",
     "text": [
      " Yes, you can be refused leave. As an employer on the platform eTemptation, you have the ability to refuse leave requests from your employees if they do not meet certain criteria or requirements.\n",
      "For example, you may refuse leave if an employee has not provided sufficient notice or if their request conflicts with a critical business need. Additionally, you may also refuse leave if the employee has not met the required performance standards or if their absence would cause significant disruption to the workplace.\n",
      "It's important to note that refusing leave can have legal implications, so it's essential to understand and comply with relevant employment laws and regulations in your jurisdiction. As an employer on eTemptation, you may want to consider consulting with HR or legal counsel before making any decisions regarding leave refusal."
     ]
    },
    {
     "name": "stderr",
     "output_type": "stream",
     "text": [
      " 80%|████████  | 16/20 [09:35<02:53, 43.48s/it]Llama.generate: prefix-match hit\n"
     ]
    },
    {
     "name": "stdout",
     "output_type": "stream",
     "text": [
      " The number of days off that an employee can take in August is subject to the company's attendance policy and the current labor law. Generally, an employee is entitled to take up to 10 days of absence in a year, but this can be reduced or increased depending on the circumstances. Additionally, if an employee is absent for more than 3 consecutive days, their job may be considered abandoned under the Labor Law, which could result in termination of employment.\n",
      "    In the given context, the employee is entitled to take up to 10 days of absence in August, provided they give the required notice and follow the company's attendance policy. However, if the employee is absent for more than 3 consecutive days, their job may be considered abandoned under the Labor Law, which could result in termination of employment."
     ]
    },
    {
     "name": "stderr",
     "output_type": "stream",
     "text": [
      " 85%|████████▌ | 17/20 [10:13<02:04, 41.57s/it]Llama.generate: prefix-match hit\n"
     ]
    },
    {
     "name": "stdout",
     "output_type": "stream",
     "text": [
      " Yes, you can take a day off to take care of your sick child. As long as you have been with the company for at least 12 months in the last 5 years and you have children under the age of 7, you are eligible for a day of absence without loss of pay on the first day of school each year. Additionally, if you are unable to work due to illness on the day of the school opening, you can take an additional day off without losing pay. However, this day cannot be taken during paid holidays or vacation days."
     ]
    },
    {
     "name": "stderr",
     "output_type": "stream",
     "text": [
      " 90%|█████████ | 18/20 [11:15<01:35, 47.82s/it]Llama.generate: prefix-match hit\n"
     ]
    },
    {
     "name": "stdout",
     "output_type": "stream",
     "text": [
      " Yes, you are entitled to additional leave with children as a parent of a child with a disability. As a salaried employee in France, you may be eligible for various benefits and allowances to help manage the challenges of raising a child with special needs. These benefits can include:\n",
      "* 2 days of additional leave upon diagnosis of a disability\n",
      "* Adaptation of work hours to accommodate the needs of your child\n",
      "* Systematic right to part-time work with certain conditions, including the possibility of having the difference in retirement contributions paid on behalf of the employee\n",
      "* 8 days of additional unpaid leave per year for managing the administrative and medical requirements related to your child's disability\n",
      "* A lump sum payment of 1200€ to help cover the costs of raising a child with special needs.\n",
      "It is important to note that these benefits are only available to employees who have a child with a disability, and the specific eligibility criteria and benefits may vary depending on the circumstances of your family."
     ]
    },
    {
     "name": "stderr",
     "output_type": "stream",
     "text": [
      " 95%|█████████▌| 19/20 [12:13<00:51, 51.00s/it]Llama.generate: prefix-match hit\n"
     ]
    },
    {
     "name": "stdout",
     "output_type": "stream",
     "text": [
      " In the event of an unexpected absence, you must inform your manager within 48 hours, unless there are exceptional circumstances. You must also send a copy of your leave notice to the HR department at the company's headquarters in Merignac. Additionally, if you are absent due to illness or injury, you must justify your absence within three days by sending an notice of absence to the Payroll Center at the following address: GROUPAMA Centre d’Expertise RH TSA 40021 33688 MERIGNAC Cedex. You also have the option of sending the notice of illness via a form on eContactPaie. It is important to note that in the event of an accident at work or travel, you must report it by calling the emergency number 01.70.94.26.26. If you do not receive a response from your manager, you can also pass through the eContactPaie portal."
     ]
    },
    {
     "name": "stderr",
     "output_type": "stream",
     "text": [
      "100%|██████████| 20/20 [13:11<00:00, 39.58s/it]\n"
     ]
    }
   ],
   "source": [
    "\n",
    "Q[\"Q_trad\"] = \"\"\n",
    "Q[\"A_raw\"] = \"\"\n",
    "Q[\"A_trad\"] = \"\"\n",
    "Q[\"result_raw\"] = \"\"\n",
    "Q[\"time\"] = \"\"\n",
    "for i in tqdm(Q.index):\n",
    "    start_time = time.time()\n",
    "    client = weaviate.Client(weaviate_url)\n",
    "    vectorstore = Weaviate(client, \"Doc\", \"text\")\n",
    "    question = Q[\"Q\"][i]\n",
    "    Q[\"Q_trad\"][i] = GoogleTranslator(source='fr', target='en').translate(question)\n",
    "    answer, similar_docs = question_answer(GoogleTranslator(source='fr', target='en').translate(question), vectorstore)\n",
    "    Q[\"A_raw\"][i] = answer\n",
    "    Q[\"A_trad\"][i] = GoogleTranslator(source='en', target='fr').translate(answer)\n",
    "    for index, result in enumerate(similar_docs):\n",
    "        Q[\"result_raw\"][i] = Q[\"result_raw\"][i] + f\"\\n\\n-- Résultat {index+1}:\\n\"\n",
    "        Q[\"result_raw\"][i] = Q[\"result_raw\"][i] + result.page_content\n",
    "\n",
    "    Q[\"time\"][i] = time.time() - start_time\n",
    "\n"
   ]
  },
  {
   "cell_type": "code",
   "execution_count": null,
   "metadata": {},
   "outputs": [],
   "source": [
    "\n",
    "Q[\"Q_trad\"] = \"\"\n",
    "Q[\"A_raw\"] = \"\"\n",
    "Q[\"A_trad\"] = \"\"\n",
    "Q[\"result_raw\"] = \"\"\n",
    "Q[\"result_trad\"] = \"\"\n",
    "Q[\"time\"] = \"\"\n",
    "for i in tqdm(Q.index):\n",
    "    start_time = time.time()\n",
    "    client = weaviate.Client(weaviate_url)\n",
    "    vectorstore = Weaviate(client, \"Doc\", \"text\")\n",
    "    question = Q[\"Q\"][i]\n",
    "    question_trad = GoogleTranslator(source='fr', target='en').translate(question) \n",
    "    Q[\"Q_trad\"][i] = question_trad\n",
    "    answer, similar_docs = question_answer(question, vectorstore)\n",
    "    Q[\"A_raw\"][i] = answer\n",
    "    Q[\"A_trad\"][i] = GoogleTranslator(source='en', target='fr').translate(answer)\n",
    "    # for index, result in enumerate(similar_docs):\n",
    "    #     Q[\"result_raw\"][i] = Q[\"result_raw\"][i] + f\"\\n\\n-- Résultat {index+1}:\\n\"\n",
    "    #     Q[\"result_raw\"][i] = Q[\"result_raw\"][i] + str(result)\n",
    "\n",
    "    Q[\"time\"][i] = time.time() - start_time\n",
    "\n"
   ]
  },
  {
   "cell_type": "code",
   "execution_count": 128,
   "metadata": {},
   "outputs": [],
   "source": [
    "Q.to_excel(\"test-llama-congés-QEN-CONTEN.xlsx\",index=False)"
   ]
  }
 ],
 "metadata": {
  "kernelspec": {
   "display_name": "local-rag",
   "language": "python",
   "name": "python3"
  },
  "language_info": {
   "codemirror_mode": {
    "name": "ipython",
    "version": 3
   },
   "file_extension": ".py",
   "mimetype": "text/x-python",
   "name": "python",
   "nbconvert_exporter": "python",
   "pygments_lexer": "ipython3",
   "version": "3.9.18"
  }
 },
 "nbformat": 4,
 "nbformat_minor": 4
}
